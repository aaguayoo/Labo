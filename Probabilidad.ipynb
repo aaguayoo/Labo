{
 "cells": [
  {
   "cell_type": "markdown",
   "metadata": {},
   "source": [
    "# Probabilidad\n",
    "\n",
    "Cantidad matemática que nos permite estimar nuestro conocimiento sobre algún evento"
   ]
  },
  {
   "cell_type": "markdown",
   "metadata": {},
   "source": [
    "## Probabilidad Frecuentista\n",
    "\n",
    "La probabilidad de que obtener $A$ de un evento aleatorio, dado un número $n_T$ repeticiones de dicho evento, es:\n",
    "\n",
    "$$\n",
    "    P(A) = \\frac{n_A}{n_T},\n",
    "$$\n",
    "\n",
    "donde $n_a$ es el número de casos favorables donde sucede A.\n",
    "\n",
    "### Reglas\n",
    "\n",
    "- Adición: Si para un evento dado tenemos un conjunto de posibles resultados $A_i$ (donde $i \\in [1,\\ldots,N]$, la probabilidad conjunta de que obtener cualquiera de esos resultados es:\n",
    "$$\n",
    "    P(\\cup_i A_i) = \\sum_i P(A_i).\n",
    "$$\n",
    "\n",
    "- Producto: Si para dicho evento tenemos resultados independientes $A$ y $B$, la probabilidad de obtener $A$ y $B$ se calcula como:\n",
    "$$\n",
    "    P(A\\cap B)= P(A)P(B). \n",
    "$$"
   ]
  },
  {
   "cell_type": "markdown",
   "metadata": {},
   "source": [
    "## Variables Discretas\n",
    "\n",
    "Ejemplos:\n",
    "- Lanzar una moneda.\n",
    "- Lanzar un dado.\n",
    "\n",
    "Para una variable discreta $X_i$ tenemos una distribución de probabilidad $p(X_i)$, asociada a todos los posibles valores de dicha variable. La probabilidad de que $X_i$ aparezca dentro de un intervalo $[a,b]$ es:\n",
    "$$\n",
    "    P(a\\leq X_i \\leq b) = \\sum_{i=a}^b p(X_i).\n",
    "$$\n",
    "\n",
    "Si tenemos $N$ posibles valores para la variable $X_i$, la distribución de probabilidad cumple:\n",
    "$$\n",
    "    \\sum_{i=1}^N p(X_i) = 1.\n",
    "$$"
   ]
  },
  {
   "cell_type": "markdown",
   "metadata": {},
   "source": [
    "## Variables Contínuas\n",
    "\n",
    "Ejemplos:\n",
    "- Eventos que suceden a lo largo del tiempo.\n",
    "- Velocidades en las partículas de un gas.\n",
    "\n",
    "Para una variable contínua $x$ tenemos una densidad de probabilidad $p(x)$, que es una función contínua asociada a todo el dominio donde esté definida $x$. La probabilidad de encontrar a $x$ dentro de un intervalo $[\\xi,\\chi]$ es:\n",
    "$$\n",
    "    P(\\xi \\leq x \\leq \\chi) = \\int_{\\xi}^{\\chi} p(x) \\, \\mathrm{d}x.\n",
    "$$\n",
    "\n",
    "Si $x$ está definida en todo el intervalo $[a,b]$, la densidad de probabilidad cumple:\n",
    "$$\n",
    "    \\int_a^b p(x) \\, \\mathrm{d}x = 1.\n",
    "$$\n"
   ]
  },
  {
   "cell_type": "markdown",
   "metadata": {},
   "source": [
    "## Definiciones importantes\n",
    "\n",
    "- Valor esperado de x ($media$):\n",
    "$$\n",
    "    E[x] = \\mu = \\int_a^b x p(x) \\, \\mathrm{d}x.\n",
    "$$\n",
    "\n",
    "- Segundo momento:\n",
    "$$\n",
    "    E[x^2] = \\int_a^b x^2 p(x) \\, \\mathrm{d}x.\n",
    "$$\n",
    "\n",
    "- Varianza:\n",
    "$$\n",
    "    Var[x] = \\sigma^2 = E[(x-\\mu)^2] = \\int_a^b (x-\\mu)^2 p(x) \\, \\mathrm{d}x = E[x^2] - \\mu.\n",
    "$$\n",
    "\n",
    "donde $\\sigma$ es la Desviación Estándar.\n",
    "\n",
    "Si tenemos dos variables independientes $x$ y $y$, podemos saber que tan relacionadas están usando:\n",
    "\n",
    "- Covarianza:\n",
    "$$\n",
    "    Cov[x,y] = E[(x-E[x])(y-E[y])] = E[xy] - E[x]E[y].\n",
    "$$\n",
    "\n",
    "- Correlación:\n",
    "$$\n",
    "    Corr[x,y] = \\frac{Cov[x,y]}{\\sqrt{Var[x]Var[y]}}.\n",
    "$$"
   ]
  },
  {
   "cell_type": "markdown",
   "metadata": {},
   "source": [
    "## Probabilidad Bayesiana\n",
    "\n",
    "La probabilidad frecuentista no toma en consideración diversos factores que puedan afectar a un siguiente resultado, sólo toman encuenta la frecuencia del evento. Por otro lado, la probabilidad Bayesiana, no sólo considera la frecuencia del evento, sino que también asigna una probabilidad a priori sobre la hipótesis que se piensa responder. \n",
    "\n",
    "Ejemplo:\n",
    "\n",
    "Supongamos que aparece una nueva enfermedad muy rara que afecta 0.1\\% de la población. Entonces nos hacemos una prueba, la cual el laboratorio asegura que de cada 100 casos, solamente 1 es un falso positivo, y a nosotros nos sale resultado positivo, ¿cuál es la probabilidad de que, en efecto, tengamos esta enfermedad dado a que el resultado fue positivo?\n",
    "\n",
    "Según la probabilidad frecuentista, sólo es necesario considerar la eficacia de la prueba, por lo que la probabilidad de tener la enfermedad sería del 99\\%.\n",
    "\n",
    "Usando la probabilidad bayesiana, debemos de preguntarnos ¿cuál es la probabilidad de tener esa enfermedad, en general? Sin importar, por el momento, el resultado de la prueba. La respuesta a esta pregunta, es un conocimiento independiente.\n",
    "\n",
    "La probabilidad de estar enfermos dado a que el resultado de la prueba fue positivo la denotaremos como $P(S|+)$ donde $S$ hace referencia a que SI tenemos la enfermedad, y el signo $+$ hace referencia a que la prueba dio positiva. Este es el valor que queremos encontrar. El Teorema de Bayes nos dice que:\n",
    "\n",
    "$$\n",
    "    P(S|+) = \\frac{P(+|S)P(S)}{P(+)},\n",
    "$$\n",
    "\n",
    "donde $P(S)$ es la probabilidad de tener la enfermedad, en general; $P(+)$ es la probabilidad de que la prueba haya dado positivo, en general; y $P(+|S)$ es la probabilidad de que la prueba diera positivo dado a que sí estamos enfermos.\n",
    "\n",
    "- Si sólo al 0.1\\% de la población le da la enfermedad, entonces la probabilidad de tenerla nosotros, en general, es $P(S) = 0.001$. A esta se le conoce como la probabilidad a priori.\n",
    "- La probabilidad de que salga positivo el test, dado a que si tenemos la enfermedad es justo la confiabilidad de la prueba $P(+|S) = 0.99$.\n",
    "- La probabilidad de que el test salga positivo es una probabilidad conjunta de que salga positivo dado a que si tenemos la enfermedad, o que salga positivo dado a que fue un falso positivo. Entonces $P(+) = P(+|S)P(S) + P(+|N)P(N) = 0.99(0.00001) + 0.01(1-0.00001)$.\n",
    "\n",
    "De esta forma tenemos que:\n",
    "\n",
    "$$\n",
    "    P(S|+) = \\frac{0.99(0.001)}{0.99(0.001) + 0.01(1-0.001)} \\approx 0.09 = 9\\%.\n",
    "$$\n",
    "\n",
    "Este resultado tiene bastante sentido cuando piensas en, justamente, lo raro que sería de verdad tener la enfermedad, porque pues sólo le da al 0.1\\%, i.e., una persona de cada 1000 habitantes. No es común, y si no sabemos nada más de la enfermedad, ni como se transimite ni nada, pues tiene sentido que la probabilidad real de teneral sea el 9\\%, ya que es más probable que la prueba se haya equivocado a ser ese 1 en 1000. Si supieramos algo más de la enfermedad como, por ejemplo, el SIDA, sabemos cómo se transmite, etc. Tendríamos que considerar diversos factores como: haber tenido sexo sin protección, número de parejas sexuales en los últimos meses, etc., y eso ya aumenta mucho más la probabilidad real de tener la enfermedad dado a que el resultado de la prueba es positivo.\n",
    "\n",
    "Si nos hacemos ahora una segunda prueba y vuelve a dar positivo, aplicamos nuevamente el Teorema de Bayes pero ahora $P(S)$ se convierte en la probabilidad a posteriori, que es justo la que calculamos anteriormente 9\\%. Si hacemos nuevamente el cálculo con esta modificación obtenemos:\n",
    "\n",
    "$$\n",
    "    P(S|+) = \\frac{0.99(0.09)}{0.99(0.09) + 0.01(1-0.09)} \\approx 0.91 = 91\\%.\n",
    "$$\n",
    "\n",
    "Ahora sí ya podríamos estar más seguros de que sí, estamos enfermos.\n",
    "\n"
   ]
  },
  {
   "cell_type": "markdown",
   "metadata": {},
   "source": [
    "## Distribuciones de Probabilidad (PDF)\n",
    "\n",
    "$$\n",
    "    \\int_{-\\infty}^\\infty p(x) \\, \\mathrm{d}x = 1\n",
    "$$"
   ]
  },
  {
   "cell_type": "code",
   "execution_count": 2,
   "metadata": {},
   "outputs": [],
   "source": [
    "#Importemos las librerías de Python\n",
    "import numpy as np #Matemáticas en general\n",
    "import matplotlib.pyplot as plt # Gráficas\n",
    "import matplotlib.mlab as mlab # Más gráficas\n",
    "from sklearn.neighbors import KernelDensity # Sklearn\n",
    "from scipy import optimize # Scipy\n",
    "from scipy.stats import norm # Scipy estadística distribución normal\n",
    "#from scipy.stats import norm, uniform\n",
    "import sympy as sym\n",
    "sym.init_printing(use_latex='mathjax', use_unicode=True)\n",
    "from IPython.display import display, Math\n",
    "\n",
    "# LaTeX\n",
    "plt.rc('font', family='serif')\n",
    "plt.rc('text', usetex=True)"
   ]
  },
  {
   "cell_type": "markdown",
   "metadata": {},
   "source": [
    "## Uniform Distribution\n",
    "\n",
    "La distribución de probabilidad en un dado o una moneda (casos discretos).\n",
    "La distribución de probabilidad de que yo diga una babosada como función del tiempo (caso continuo).\n",
    "\n",
    "$$\n",
    "f(x) = \\left\\lbrace \n",
    "\\begin{array}\\\\\n",
    "\\frac{1}{b-a} &\\text{for } a \\leq x \\leq b, \\\\\n",
    "0 &\\text{for } x < a \\text{ or } x > b\n",
    "\\end{array}\n",
    "\\right.\n",
    "$$"
   ]
  },
  {
   "cell_type": "code",
   "execution_count": 3,
   "metadata": {},
   "outputs": [],
   "source": [
    "# Creamos la distribución\n",
    "def uniform(x,b,a):\n",
    "    return np.ones_like(x)/(b-a)"
   ]
  },
  {
   "cell_type": "code",
   "execution_count": 4,
   "metadata": {},
   "outputs": [
    {
     "data": {
      "text/plain": [
       "<matplotlib.legend.Legend at 0x7f8c1cac5d60>"
      ]
     },
     "execution_count": 4,
     "metadata": {},
     "output_type": "execute_result"
    },
    {
     "data": {
      "image/png": "[encoded data removed]",
      "text/plain": [
       "<Figure size 432x288 with 1 Axes>"
      ]
     },
     "metadata": {
      "needs_background": "light"
     },
     "output_type": "display_data"
    }
   ],
   "source": [
    "# Límites del intervalo donde está definida nuestra\n",
    "# distribución\n",
    "b =   10\n",
    "a =  -10\n",
    "\n",
    "# Semilla random para que siempre salga la misma\n",
    "# distribución\n",
    "np.random.seed(19680801)\n",
    "\n",
    "# Creamos una distribución uniforme\n",
    "s = np.random.uniform(a,b,1000)\n",
    "\n",
    "# Graficamos con pyplot (plt) el histograma de la distribución\n",
    "count, bins, ignored = plt.hist(s, 20, density=True)\n",
    "\n",
    "# Distribución real\n",
    "plt.plot(bins, uniform(bins,b,a), linewidth=2, color='r',label='Distribution')\n",
    "plt.xlabel('$x$')\n",
    "plt.ylabel('Frequency')\n",
    "plt.legend()"
   ]
  },
  {
   "cell_type": "markdown",
   "metadata": {},
   "source": [
    "## Normal Distribution\n",
    "\n",
    "Distrubición gaussiana.\n",
    "\n",
    "Para las velocidades de las partículas de un gas en equilibrio.\n",
    "\n",
    "El comportamiendo de la gente.\n",
    "\n",
    "$$\n",
    "f(x|\\mu,\\sigma^2) = \\frac{1}{\\sqrt{2\\pi \\sigma^2}} \\exp{\\left( - \\frac{(x - \\mu)^2}{2\\sigma^2} \\right)}\n",
    "$$"
   ]
  },
  {
   "cell_type": "code",
   "execution_count": 5,
   "metadata": {},
   "outputs": [],
   "source": [
    "# Creamos la distribución\n",
    "def gauss(x,mu,sigma):\n",
    "    return 1/(sigma * np.sqrt(2 * np.pi)) * np.exp( - (x - mu)**2 / (2 * sigma**2) )"
   ]
  },
  {
   "cell_type": "code",
   "execution_count": 6,
   "metadata": {},
   "outputs": [
    {
     "data": {
      "text/latex": [
       "$\\displaystyle \\left( 0.0, \\  100.0\\right)$"
      ],
      "text/plain": [
       "(0.0, 100.0)"
      ]
     },
     "execution_count": 6,
     "metadata": {},
     "output_type": "execute_result"
    },
    {
     "data": {
      "image/png": "[encoded data removed]",
      "text/plain": [
       "<Figure size 432x288 with 1 Axes>"
      ]
     },
     "metadata": {
      "needs_background": "light"
     },
     "output_type": "display_data"
    }
   ],
   "source": [
    "# Definimos los parámetros mu y sigma\n",
    "# que son la media y desviación estándar\n",
    "media, sigma = 50, 10\n",
    "\n",
    "# Puntos aleatorios distribuidos de manera normal (gaussiana)\n",
    "data = np.random.normal(media, sigma, 1000)\n",
    "\n",
    "# Histograma\n",
    "count, bins, ignored = plt.hist(data, bins=50, density=True)\n",
    "\n",
    "# Distribución real\n",
    "plt.plot(bins, gauss(bins,media,sigma),\n",
    "         linewidth=2, color='r', label='Distribution')\n",
    "plt.xlim(0,100)"
   ]
  },
  {
   "cell_type": "markdown",
   "metadata": {},
   "source": [
    "## Ajustando una distribución\n",
    "\n",
    "Supongamos que tenemos un conjunto de datos que tienen\n",
    "una distribución que, a ojo, se ve gaussiana"
   ]
  },
  {
   "cell_type": "code",
   "execution_count": 7,
   "metadata": {},
   "outputs": [
    {
     "data": {
      "image/png": "[encoded data removed]",
      "text/plain": [
       "<Figure size 432x288 with 1 Axes>"
      ]
     },
     "metadata": {
      "needs_background": "light"
     },
     "output_type": "display_data"
    }
   ],
   "source": [
    "# Datos observados\n",
    "count, bins, ignored = plt.hist(data, bins=50, density=True)"
   ]
  },
  {
   "cell_type": "markdown",
   "metadata": {},
   "source": [
    "Supongamos que la distribución que siguen es normal, así\n",
    "que ajustemos dicha distribución"
   ]
  },
  {
   "cell_type": "code",
   "execution_count": 8,
   "metadata": {},
   "outputs": [
    {
     "data": {
      "text/latex": [
       "$\\displaystyle \\text{Los parámetros son:}$"
      ],
      "text/plain": [
       "<IPython.core.display.Math object>"
      ]
     },
     "metadata": {},
     "output_type": "display_data"
    },
    {
     "data": {
      "text/latex": [
       "$\\displaystyle \\mu = 50.45357994797808 \\, \\, \\text{ y } \\, \\, \\sigma = 10.127560446450607$"
      ],
      "text/plain": [
       "<IPython.core.display.Math object>"
      ]
     },
     "metadata": {},
     "output_type": "display_data"
    },
    {
     "data": {
      "text/plain": [
       "[<matplotlib.lines.Line2D at 0x7f8c1c84bee0>]"
      ]
     },
     "execution_count": 8,
     "metadata": {},
     "output_type": "execute_result"
    },
    {
     "data": {
      "image/png": "[encoded data removed]",
      "text/plain": [
       "<Figure size 432x288 with 1 Axes>"
      ]
     },
     "metadata": {
      "needs_background": "light"
     },
     "output_type": "display_data"
    }
   ],
   "source": [
    "# Un ajuste con una distribución normal a los datos\n",
    "mu, std = norm.fit(data)\n",
    "display(Math(rf'\\text{{Los parámetros son:}}'))\n",
    "display(Math(rf'\\mu = {mu} \\, \\, \\text{{ y }} \\, \\, \\sigma = {std}'))\n",
    "\n",
    "# Graficamos los datos contra el ajuste\n",
    "x = np.linspace(20,90,10000)\n",
    "count, bins, ignored = plt.hist(data, bins=50, density=True)\n",
    "plt.plot(x,gauss(x,mu,std))\n"
   ]
  },
  {
   "cell_type": "markdown",
   "metadata": {},
   "source": [
    "## Ajustando una función más complicada"
   ]
  },
  {
   "cell_type": "code",
   "execution_count": 9,
   "metadata": {},
   "outputs": [],
   "source": [
    "from scipy.optimize import curve_fit"
   ]
  },
  {
   "cell_type": "code",
   "execution_count": 10,
   "metadata": {},
   "outputs": [],
   "source": [
    "# La función que vamos a ajustar es una exponencial con \n",
    "# una gaussiana\n",
    "\n",
    "def fit_function(x, A, beta, B, mu, sigma):\n",
    "    return (A * np.exp(-x/beta) + B * np.exp(-1.0 * (x - mu)**2 / (2 * sigma**2)))"
   ]
  },
  {
   "cell_type": "code",
   "execution_count": 11,
   "metadata": {},
   "outputs": [],
   "source": [
    "# Generamos nuestros datos sintéticos a partir de \n",
    "# una exponencial y de una gaussiana\n",
    "# y en lugar de usar plt.hist, haremos una gráfica de barras.\n",
    "# Esto nos permite acomodar mejor los bins\n",
    "\n",
    "data  = np.random.exponential(scale=2.0, size=100)\n",
    "data2 = np.random.normal(3,0.5,size=150)\n",
    "bins  = np.linspace(0, 6, 61)"
   ]
  },
  {
   "cell_type": "code",
   "execution_count": 12,
   "metadata": {},
   "outputs": [],
   "source": [
    "# Definimos los centros de los bins, justo para ajustar\n",
    "# las gráficas de barra. Concatenamos los datos simulados\n",
    "# de la exponencial y la gaussiana. Generamos el histograma.\n",
    "\n",
    "binscenters = np.array([0.5 * (bins[i] + bins[i+1]) for i in range(len(bins)-1)])\n",
    "data_cat = np.concatenate((data,data2))\n",
    "data_entries, bins_cat = np.histogram(data_cat,bins=bins,density=True)"
   ]
  },
  {
   "cell_type": "code",
   "execution_count": 13,
   "metadata": {},
   "outputs": [
    {
     "data": {
      "text/plain": [
       "<BarContainer object of 60 artists>"
      ]
     },
     "execution_count": 13,
     "metadata": {},
     "output_type": "execute_result"
    },
    {
     "data": {
      "image/png": "[encoded data removed]",
      "text/plain": [
       "<Figure size 432x288 with 1 Axes>"
      ]
     },
     "metadata": {
      "needs_background": "light"
     },
     "output_type": "display_data"
    }
   ],
   "source": [
    "# Plotteamos el histograma con grafica de barra\n",
    "plt.bar(binscenters, data_entries, width=bins[1] - bins[0], color='gray', label=r'Histogram entries')"
   ]
  },
  {
   "cell_type": "code",
   "execution_count": 14,
   "metadata": {},
   "outputs": [],
   "source": [
    "# Hacemos el fit de nuestra función al histograma.\n",
    "#p0 = [20000, 2.0, 2000, 3.0, 0.3]\n",
    "p0 = [0.2, 2.27, 0.49, 2.97, 0.5]\n",
    "popt, pcov = curve_fit(fit_function, xdata=binscenters, ydata=data_entries, p0=p0)"
   ]
  },
  {
   "cell_type": "code",
   "execution_count": 15,
   "metadata": {},
   "outputs": [
    {
     "name": "stdout",
     "output_type": "stream",
     "text": [
      "Los parámetros del fit son [0.24551289 1.25576089 0.50759223 2.96807353 0.53104315]\n"
     ]
    },
    {
     "data": {
      "image/png": "[encoded data removed]",
      "text/plain": [
       "<Figure size 432x288 with 1 Axes>"
      ]
     },
     "metadata": {
      "needs_background": "light"
     },
     "output_type": "display_data"
    }
   ],
   "source": [
    "# Y plottemos el histograma junto con el fit\n",
    "xspace = np.linspace(0, 6, 100000)\n",
    "plt.bar(binscenters, data_entries, width=bins[1] - bins[0], color='gray', label=r'Histogram entries')\n",
    "plt.plot(xspace, fit_function(xspace, *popt), color='darkorange', linewidth=2.5, label=r'Fitted function')\n",
    "\n",
    "plt.xlim(0,6)\n",
    "plt.xlabel(r'x axis')\n",
    "plt.ylabel(r'Number of entries')\n",
    "plt.title(r'Exponential decay with gaussian peak')\n",
    "plt.legend(loc='best')\n",
    "\n",
    "print(\"Los parámetros del fit son {}\".format(popt))"
   ]
  },
  {
   "cell_type": "markdown",
   "metadata": {},
   "source": [
    "## Función de Distribución Acumulada (CDF)\n",
    "\n",
    "$$\n",
    "F(x) = P(X \\leq x) = \\int_{-\\infty}^x p(t) \\, \\mathrm{d}t.\n",
    "$$\n"
   ]
  },
  {
   "cell_type": "code",
   "execution_count": 16,
   "metadata": {},
   "outputs": [
    {
     "data": {
      "text/plain": [
       "[<matplotlib.lines.Line2D at 0x7f8c1c1e0ca0>]"
      ]
     },
     "execution_count": 16,
     "metadata": {},
     "output_type": "execute_result"
    },
    {
     "data": {
      "image/png": "[encoded data removed]",
      "text/plain": [
       "<Figure size 432x288 with 1 Axes>"
      ]
     },
     "metadata": {
      "needs_background": "light"
     },
     "output_type": "display_data"
    }
   ],
   "source": [
    "x = np.linspace(0,100,10000)\n",
    "\n",
    "plt.plot(x,norm.pdf(x,mu,std))\n",
    "plt.plot(x,norm.cdf(x,mu,std))"
   ]
  },
  {
   "cell_type": "markdown",
   "metadata": {},
   "source": [
    "¿Cuál es la probabilidad de encontrar un dato en $x < 70$?\n",
    "\n",
    "Es probable que tengamos muy pocos datos como para responder esta pregunta, pero dado que tenemos un ajuste para su distribución, podemos lanzar todos los números aleatorios que queramos, usando dicha distribución, y tener simulaciones de datos que nos permitirán estimar mucho mejor dicha probabilidad.\n",
    "\n",
    "¿Por qué sirve hacer esto? Porque, según el Teorema Central del\n",
    "Límite, si la cantidad de datos que tenemos tiene a infinito, \n",
    "nuestra distribución tiende a una gaussiana."
   ]
  },
  {
   "cell_type": "code",
   "execution_count": 17,
   "metadata": {},
   "outputs": [
    {
     "name": "stdout",
     "output_type": "stream",
     "text": [
      "La probabilidad es 0.97269\n"
     ]
    }
   ],
   "source": [
    "# Fijamos el número de datos simulados.\n",
    "N = 100000 \n",
    "\n",
    "lmax = 70\n",
    "lmin = 0\n",
    "\n",
    "# Tiradas Monte-Carlo\n",
    "prob = 0\n",
    "for i in range(0,N):\n",
    "    x = np.random.normal(mu,std)\n",
    "    \n",
    "    if x <= lmax and x >= lmin:\n",
    "        prob += 1\n",
    "        \n",
    "print(\"La probabilidad es {}\".format(prob/N))"
   ]
  },
  {
   "cell_type": "markdown",
   "metadata": {},
   "source": [
    "## Usando SymPy\n",
    "\n",
    "Definamos nuestra propia distribución y obtengamos PDF y CFD, desde cero. Ya hay librerías que lo hacen por ti, pero vale la pena intentarlo. Es un buen ejercicio."
   ]
  },
  {
   "cell_type": "code",
   "execution_count": 18,
   "metadata": {},
   "outputs": [],
   "source": [
    "from sympy import *"
   ]
  },
  {
   "cell_type": "code",
   "execution_count": 19,
   "metadata": {},
   "outputs": [],
   "source": [
    "# Definamos nuestra propia distribución.\n",
    "# En este caso, sólo para comparar, haremos una Gaussiana\n",
    "# pero puede ser cualquier distribución.\n",
    "\n",
    "def gaussian_dist(*args,**kwargs):\n",
    "    x   = args[0]\n",
    "    mu  = kwargs['mu']\n",
    "    std = kwargs['std']\n",
    "    return exp(-(x-mu)**2/(2*std**2))/sqrt(2*pi*std**2)"
   ]
  },
  {
   "cell_type": "code",
   "execution_count": 20,
   "metadata": {},
   "outputs": [],
   "source": [
    "# Esta clase toma como argumento nuestra distribución\n",
    "# en este caso, \"gaussian_dist\" y podemos obtener de ahí\n",
    "# .pdf(i) o .cdf donde i es cualquier número, así como\n",
    "# .pdf_array(x) y .cdf_array(x) donde x es un array.\n",
    "\n",
    "class General_Distribution():\n",
    "    def __init__(self,dist,rv='x',**kwargs):\n",
    "        self.dist   = dist\n",
    "        self.rv     = rv\n",
    "        self.kwargs = kwargs\n",
    "    \n",
    "    def pdf(self,*args):\n",
    "        return self.dist(*args,**self.kwargs)\n",
    "    \n",
    "    def cdf(self,*args):\n",
    "        t, x = symbols('t x') \n",
    "        return lambdify(x,integrate(self.pdf(t),(t,-oo,x)))(*args)\n",
    "    \n",
    "    def pdf_array(self,x):\n",
    "        return np.array([float(self.pdf(i)) for i in x])\n",
    "    \n",
    "    def cdf_array(self,x):\n",
    "        add = []\n",
    "        pdf = self.pdf_array(x)\n",
    "        \n",
    "        dumb = 0\n",
    "        for i in x:\n",
    "            dumb += self.pdf(i)*(x.max()-x.min())/len(x)\n",
    "            add.append(dumb)\n",
    "            \n",
    "        return np.array(add)"
   ]
  },
  {
   "cell_type": "code",
   "execution_count": 21,
   "metadata": {},
   "outputs": [],
   "source": [
    "gaussian = General_Distribution(gaussian_dist,mu=5,std=1)"
   ]
  },
  {
   "cell_type": "code",
   "execution_count": 22,
   "metadata": {},
   "outputs": [],
   "source": [
    "x = np.linspace(-5,15,1000)"
   ]
  },
  {
   "cell_type": "code",
   "execution_count": 23,
   "metadata": {},
   "outputs": [],
   "source": [
    "pdf = gaussian.pdf_array(x)\n",
    "cdf = gaussian.cdf_array(x)"
   ]
  },
  {
   "cell_type": "code",
   "execution_count": 24,
   "metadata": {},
   "outputs": [
    {
     "data": {
      "text/plain": [
       "[<matplotlib.lines.Line2D at 0x7f8c1bc92fd0>]"
      ]
     },
     "execution_count": 24,
     "metadata": {},
     "output_type": "execute_result"
    },
    {
     "data": {
      "image/png": "[encoded data removed]",
      "text/plain": [
       "<Figure size 432x288 with 1 Axes>"
      ]
     },
     "metadata": {
      "needs_background": "light"
     },
     "output_type": "display_data"
    }
   ],
   "source": [
    "plt.plot(x,pdf)\n",
    "plt.plot(x,cdf)"
   ]
  },
  {
   "cell_type": "markdown",
   "metadata": {},
   "source": [
    "De aquí también podemos obtener un _sample_ de números aleatorios siguiendo esta distribución. El problema de hacerlo desde cero, como lo estamos haciendo aquí, es que la manera en que se obtiene la muestra de números aleatorios es siguiendo el siguiente procedimiento:\n",
    "\n",
    "- Definimos PDF: p(x)\n",
    "- Calculamos $F(x) = \\int_{-\\infty}^x p(t) \\, \\mathrm{d}t$\n",
    "- Para obtener la muestra de puntos que tiene la distribución que queremos, utilizamos $F^{-1}(\\chi)$ donde $\\chi$ tiene una distribución uniforme entre 0 y 1.\n",
    "\n",
    "De aquí es claro que obtener la función inversa es complicado en general. Para ciertas funciones conocidas se puede sacar de manera analítica. Sin embargo, si nuestra distribución es muy complicada, es posible que obtener la función inversa sea muy costoso y se tenga que hacer numéricamente, a pesar de que siempre podemos asegurar de que exista. Para hacerlo desde cero tendríamos que utilizar muchas paqueterías y optimizar demasiado nuestra clase.\n",
    "\n",
    "Afortunadamente Scipy ya tiene una clase que hace lo mismo, pero valía la pena empezarla desde cero."
   ]
  },
  {
   "cell_type": "markdown",
   "metadata": {},
   "source": [
    "## Usando SciPy"
   ]
  },
  {
   "cell_type": "code",
   "execution_count": 25,
   "metadata": {},
   "outputs": [],
   "source": [
    "from scipy.stats import rv_continuous"
   ]
  },
  {
   "cell_type": "code",
   "execution_count": 26,
   "metadata": {},
   "outputs": [],
   "source": [
    "# Definamos una clase para la distribución\n",
    "# Para propósitos de este ejemplo usaremos una gaussiana\n",
    "# pero puede ser cualquier distribución\n",
    "\n",
    "# La clase tendrá como argumento rv_continuous, que es\n",
    "# parte de scitpy.stats. Esto le proporciona a la clase\n",
    "# objetos de scipy.stats para distribuciones continuas,\n",
    "# tales como PDF, CDF, random samples, etc.\n",
    "\n",
    "class gaussian_gen(rv_continuous):\n",
    "    \"Gaussian distribution\"\n",
    "    def _pdf(self, x, mu, std):\n",
    "        return np.exp(-(x-mu)**2 / (2. * std**2)) / np.sqrt(2.0 * np.pi * std**2)\n",
    "gaussian = gaussian_gen(name='gaussian',shapes='mu, std')"
   ]
  },
  {
   "cell_type": "code",
   "execution_count": 27,
   "metadata": {},
   "outputs": [],
   "source": [
    "# Calculamos PDF y CDF\n",
    "\n",
    "x = np.linspace(-100,100,1000)\n",
    "\n",
    "mu  = 52\n",
    "std = 5.5\n",
    "\n",
    "pdf = gaussian.pdf(x,mu,std)\n",
    "cdf = gaussian.cdf(x,mu,std)"
   ]
  },
  {
   "cell_type": "code",
   "execution_count": 28,
   "metadata": {},
   "outputs": [
    {
     "data": {
      "text/plain": [
       "[<matplotlib.lines.Line2D at 0x7f8c1bc044f0>]"
      ]
     },
     "execution_count": 28,
     "metadata": {},
     "output_type": "execute_result"
    },
    {
     "data": {
      "image/png": "[encoded data removed]",
      "text/plain": [
       "<Figure size 432x288 with 1 Axes>"
      ]
     },
     "metadata": {
      "needs_background": "light"
     },
     "output_type": "display_data"
    }
   ],
   "source": [
    "plt.plot(x,pdf)\n",
    "plt.plot(x,cdf)"
   ]
  },
  {
   "cell_type": "code",
   "execution_count": 29,
   "metadata": {},
   "outputs": [],
   "source": [
    "# Para hacer un _sample_, por alguna razón, la función\n",
    "# rvs tiene problemas al ponerle una cantidad fija de datos\n",
    "# que queremos, pero nos arroja un número aleatorio a la vez \n",
    "# muy bien y rápido. Entonces \n",
    "\n",
    "N = 1000\n",
    "dist = [gaussian.rvs(mu,std) for i in range(N)]"
   ]
  },
  {
   "cell_type": "code",
   "execution_count": 30,
   "metadata": {},
   "outputs": [
    {
     "data": {
      "text/plain": [
       "[<matplotlib.lines.Line2D at 0x7f8c1c2fab20>]"
      ]
     },
     "execution_count": 30,
     "metadata": {},
     "output_type": "execute_result"
    },
    {
     "data": {
      "image/png": "[encoded data removed]",
      "text/plain": [
       "<Figure size 432x288 with 1 Axes>"
      ]
     },
     "metadata": {
      "needs_background": "light"
     },
     "output_type": "display_data"
    }
   ],
   "source": [
    "hist = plt.hist(dist,bins=20,density=True)\n",
    "plt.plot(x,pdf)"
   ]
  },
  {
   "cell_type": "markdown",
   "metadata": {},
   "source": [
    "Hagamos entonces una distribución más complicada"
   ]
  },
  {
   "cell_type": "code",
   "execution_count": 31,
   "metadata": {},
   "outputs": [],
   "source": [
    "class exp_gauss_gen(rv_continuous):\n",
    "    \"Exponential-Gaussian distribution\"\n",
    "    def _pdf(self, x, A, beta, B, mu, std):\n",
    "        return (A * np.exp(-x/beta) + B * np.exp(-(x - mu)**2 / (2 * std**2)))\n",
    "            \n",
    "exp_gaussian = exp_gauss_gen(name='exp_gaussian',shapes='A, beta, B, mu, std')"
   ]
  },
  {
   "cell_type": "code",
   "execution_count": 32,
   "metadata": {},
   "outputs": [],
   "source": [
    "# Calculamos PDF y CDF\n",
    "\n",
    "x = np.linspace(0.0001,6,1000)\n",
    "\n",
    "A    = 0.2\n",
    "beta = 2.3\n",
    "B    = 0.1\n",
    "mu   = 3.5\n",
    "std  = 0.5\n",
    "\n",
    "pdf = exp_gaussian.pdf(x,A,beta,B,mu,std)"
   ]
  },
  {
   "cell_type": "code",
   "execution_count": 33,
   "metadata": {},
   "outputs": [
    {
     "data": {
      "text/plain": [
       "[<matplotlib.lines.Line2D at 0x7f8c1c84b9a0>]"
      ]
     },
     "execution_count": 33,
     "metadata": {},
     "output_type": "execute_result"
    },
    {
     "data": {
      "image/png": "[encoded data removed]",
      "text/plain": [
       "<Figure size 432x288 with 1 Axes>"
      ]
     },
     "metadata": {
      "needs_background": "light"
     },
     "output_type": "display_data"
    }
   ],
   "source": [
    "plt.plot(x,pdf)"
   ]
  },
  {
   "cell_type": "code",
   "execution_count": 34,
   "metadata": {},
   "outputs": [],
   "source": [
    "# En este caso tenemos un overflow al calcular la CDF\n",
    "# no sé bien por qué. Sin embargo podemos calcularla a partir\n",
    "# de la PDF.\n",
    "\n",
    "cdf = []\n",
    "        \n",
    "dumb = 0\n",
    "for i in np.arange(len(x)):\n",
    "    dumb += pdf[i]*(x.max()-x.min())/len(x)\n",
    "    cdf.append(dumb)\n",
    "\n",
    "norm = dumb\n",
    "pdf = pdf/norm\n",
    "cdf = np.array(cdf)/norm"
   ]
  },
  {
   "cell_type": "code",
   "execution_count": 35,
   "metadata": {},
   "outputs": [
    {
     "data": {
      "text/plain": [
       "[<matplotlib.lines.Line2D at 0x7f8c1c870160>]"
      ]
     },
     "execution_count": 35,
     "metadata": {},
     "output_type": "execute_result"
    },
    {
     "data": {
      "image/png": "[encoded data removed]",
      "text/plain": [
       "<Figure size 432x288 with 1 Axes>"
      ]
     },
     "metadata": {
      "needs_background": "light"
     },
     "output_type": "display_data"
    }
   ],
   "source": [
    "plt.plot(x,pdf)\n",
    "plt.plot(x,cdf)"
   ]
  },
  {
   "cell_type": "code",
   "execution_count": 36,
   "metadata": {},
   "outputs": [],
   "source": [
    "# Si no es posible obtener un sample usando .rvs\n",
    "# podemos interpolar la cdf\n",
    "\n",
    "from scipy import interpolate\n",
    "\n",
    "f = interpolate.interp1d(cdf,x,kind='cubic')"
   ]
  },
  {
   "cell_type": "code",
   "execution_count": 37,
   "metadata": {},
   "outputs": [],
   "source": [
    "x_new = np.random.uniform(0.005,0.999,size=1000)\n",
    "dist = f(x_new)"
   ]
  },
  {
   "cell_type": "code",
   "execution_count": 38,
   "metadata": {},
   "outputs": [
    {
     "data": {
      "text/plain": [
       "[<matplotlib.lines.Line2D at 0x7f8c1c2fd550>]"
      ]
     },
     "execution_count": 38,
     "metadata": {},
     "output_type": "execute_result"
    },
    {
     "data": {
      "image/png": "[encoded data removed]",
      "text/plain": [
       "<Figure size 432x288 with 1 Axes>"
      ]
     },
     "metadata": {
      "needs_background": "light"
     },
     "output_type": "display_data"
    }
   ],
   "source": [
    "hist = plt.hist(dist,bins=50,density=True)\n",
    "plt.plot(x,pdf)"
   ]
  },
  {
   "cell_type": "code",
   "execution_count": null,
   "metadata": {},
   "outputs": [],
   "source": []
  },
  {
   "cell_type": "code",
   "execution_count": null,
   "metadata": {},
   "outputs": [],
   "source": [
    "# Generate random samples from a mixture of 2 Gaussians\n",
    "# with modes at 5 and 10\n",
    "np.random.seed(19680801)\n",
    "mu1 = 5\n",
    "mu2 = 10\n",
    "sig1 = 0.5\n",
    "sig2 = 2\n",
    "\n",
    "f1 = 0.25\n",
    "f2 = 0.75\n",
    "N  = 2000\n",
    "\n",
    "data = np.concatenate((mu1 + sig1*np.random.randn(int(f1*N), 1),\n",
    "                       mu2 + sig2*np.random.randn(int(f2*N), 1)))\n",
    "\n",
    "\n",
    "# Plot the data using a normalized histogram\n",
    "plt.hist(data, 50, density=True)\n",
    "\n",
    "# Plot the true distribution\n",
    "x = np.linspace(0, 16, 1000)[:, np.newaxis]\n",
    "norm_vals = gauss(x, mu1, sig1) * f1 + gauss(x, mu2, sig2) * f2\n",
    "plt.plot(x, norm_vals,c=\"red\")\n",
    "\n",
    "\n",
    "# Do kernel density estimation\n",
    "kd = KernelDensity(kernel='gaussian', bandwidth=0.30).fit(data)\n",
    "\n",
    "# Plot the estimated densty\n",
    "kd_vals = np.exp(kd.score_samples(x))\n",
    "plt.plot(x, kd_vals)"
   ]
  },
  {
   "cell_type": "code",
   "execution_count": null,
   "metadata": {},
   "outputs": [],
   "source": [
    "# Fixing random state for reproducibility\n",
    "np.random.seed(19680801)\n",
    "\n",
    "# some random data\n",
    "x = np.random.randn(1000)\n",
    "y = np.random.randn(1000)\n",
    "\n",
    "\n",
    "def scatter_hist(x, y, ax, ax_histx, ax_histy):\n",
    "    # no labels\n",
    "    ax_histx.tick_params(axis=\"x\", labelbottom=False)\n",
    "    ax_histy.tick_params(axis=\"y\", labelleft=False)\n",
    "\n",
    "    # the scatter plot:\n",
    "    ax.scatter(x, y, c=np.sqrt(x**2 + y**2))\n",
    "\n",
    "    # now determine nice limits by hand:\n",
    "    binwidth = 0.25\n",
    "    xymax = max(np.max(np.abs(x)), np.max(np.abs(y)))\n",
    "    lim = (int(xymax/binwidth) + 1) * binwidth\n",
    "\n",
    "    bins = np.arange(-lim, lim + binwidth, binwidth)\n",
    "    ax_histx.hist(x, bins=bins, color='gray')\n",
    "    ax_histy.hist(y, bins=bins, orientation='horizontal',color='gray')"
   ]
  },
  {
   "cell_type": "code",
   "execution_count": null,
   "metadata": {},
   "outputs": [],
   "source": [
    "# definitions for the axes\n",
    "left, width = 0.1, 0.65\n",
    "bottom, height = 0.1, 0.65\n",
    "spacing = 0.005\n",
    "\n",
    "\n",
    "rect_scatter = [left, bottom, width, height]\n",
    "rect_histx = [left, bottom + height + spacing, width, 0.2]\n",
    "rect_histy = [left + width + spacing, bottom, 0.2, height]\n",
    "\n",
    "# start with a square Figure\n",
    "fig = plt.figure(figsize=(8, 8))\n",
    "\n",
    "ax = fig.add_axes(rect_scatter)\n",
    "ax_histx = fig.add_axes(rect_histx, sharex=ax)\n",
    "ax_histy = fig.add_axes(rect_histy, sharey=ax)\n",
    "\n",
    "# use the previously defined function\n",
    "scatter_hist(x, y, ax, ax_histx, ax_histy)"
   ]
  },
  {
   "cell_type": "markdown",
   "metadata": {},
   "source": [
    "$$\n",
    "P(x,y) = P(x)P(y) = gaussiana(x)gaussiana(y)\n",
    "$$"
   ]
  },
  {
   "cell_type": "code",
   "execution_count": null,
   "metadata": {},
   "outputs": [],
   "source": []
  }
 ],
 "metadata": {
  "kernelspec": {
   "display_name": "Python 3",
   "language": "python",
   "name": "python3"
  },
  "language_info": {
   "codemirror_mode": {
    "name": "ipython",
    "version": 3
   },
   "file_extension": ".py",
   "mimetype": "text/x-python",
   "name": "python",
   "nbconvert_exporter": "python",
   "pygments_lexer": "ipython3",
   "version": "3.8.3"
  }
 },
 "nbformat": 4,
 "nbformat_minor": 4
}
