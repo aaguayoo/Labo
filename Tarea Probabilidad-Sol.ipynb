{
 "cells": [
  {
   "cell_type": "markdown",
   "metadata": {},
   "source": [
    "# Tarea - Probabilidad, Ajuste de Modelos y MC"
   ]
  },
  {
   "cell_type": "markdown",
   "metadata": {},
   "source": [
    "El archivo \"data.txt\" muestra la distribución de la gente en un andén del metro a lo largo de un día. La estación del metro tiene tres entradas al andén colocadas a 30, 70 y 120 metros, respecto del inicio del andén, el cual mide 150 metros en total.\n",
    "\n",
    "La distribución se obtuvo contando a todas las personas distribuidas cada 1 metro de principio a fin. De esta forma se obtiene la siguiente distribución con 150 \"bins\"."
   ]
  },
  {
   "cell_type": "code",
   "execution_count": 1,
   "metadata": {},
   "outputs": [],
   "source": [
    "import numpy as np\n",
    "import matplotlib.pyplot as plt\n",
    "# LaTeX\n",
    "plt.rc('font', family='serif')\n",
    "plt.rc('text', usetex=True)\n",
    "\n",
    "data = np.loadtxt(\"data.txt\",unpack=True)\n",
    "binscenters  = data[0] # Centro de los bins\n",
    "muestra      = data[1] # Datos de la distribución\n",
    "bin_width    = 1 # El conteo se hace cada 1 metro"
   ]
  },
  {
   "cell_type": "code",
   "execution_count": 2,
   "metadata": {},
   "outputs": [
    {
     "data": {
      "text/plain": [
       "<matplotlib.legend.Legend at 0x7fbe8c255af0>"
      ]
     },
     "execution_count": 2,
     "metadata": {},
     "output_type": "execute_result"
    },
    {
     "data": {
      "image/png": "[encoded data removed]",
      "text/plain": [
       "<Figure size 432x288 with 1 Axes>"
      ]
     },
     "metadata": {
      "needs_background": "light"
     },
     "output_type": "display_data"
    }
   ],
   "source": [
    "plt.bar(binscenters, muestra, width=bin_width, color='gray', label=r'Muestra')\n",
    "plt.xlabel(\"Distancia [m]\")\n",
    "plt.ylabel(\"Número de personas\")\n",
    "plt.xlim(0,150)\n",
    "plt.legend()"
   ]
  },
  {
   "cell_type": "markdown",
   "metadata": {},
   "source": [
    "Esta distribución es una muestra representativa de lo que sucede todos los días a lo largo del año, pero sigue siendo sólo un día el que se muestra. Lo ideal sería realizar el conteo durante todos los días para así tener un estimado de la distribución en el año. Sin embargo, esto último resulta imposible, al menos en la práctica.\n",
    "\n",
    "Preguntas:\n",
    "\n",
    "- ¿Cuántas personas hubo en la estación ese día?\n",
    "- ¿Cuál es la probabilidad de encontrar 1 persona entre los 100 y 110 metros de la estación durante este día?.\n",
    "- ¿Podrías estimar de alguna forma cuál sería la probabilidad de encontrar 1 persona entre los 100 y 110 metros, pero durante todo el año?\n",
    "- ¿Cuál es la posición más probable para encontrar a una persona (valor esperado) en el día? ¿Y a lo largo del año?\n",
    "- ¿Qué conclusiones puedes dar? ¿Es posible dar una estimación correcta de estos resultados a lo largo del año? ¿Qué cambiarías sobre tus suposiciones"
   ]
  },
  {
   "cell_type": "markdown",
   "metadata": {},
   "source": [
    "Tips:\n",
    "\n",
    "1) Supón todo lo que tengas que suponer, pero arguméntalo.\n",
    "\n",
    "2) Usa cualquiera de las cosas que hayamos visto (checa los notebooks Probabilidad.ipynb, Pi_Estimation.ipynb, Ajuste de Modelo - MC.ipynb).\n",
    "\n",
    "3) Es conveniente ajustar un modelo a los datos.\n",
    "\n",
    "4) Nota que la distribución que tienes no está normalizada, por lo que no es una PDF todavía.\n",
    "\n",
    "5) Recuerda que \n",
    "$$ \n",
    "\\int_0^{150} p(x) \\, \\mathrm{d}x = 1.\n",
    "$$\n",
    "6) Calcula la función acumulativa (CDF). Esta función debe valer 1 en 150, con esto sabrás si tu PDF está bien normalizada.\n",
    "\n",
    "7) Para las preguntas sobre cuál sería la probabilidad a lo largo del año, te recomiendo realizar 365 simulaciones Monte Carlo (una por cada día del año) asumiendo una distribución que se acople a los datos que tienes (punto 3) y obteniendo una muestra distinta (sample, distribución) de N personas para cada día. Puedes asumir que cada día hay la misma cantidad N de personas o, si quieres, asumir una forma más complicada como, por ejemplo, que en días festivos no hay tanta gente como en un viernes de quincena, o simplemente asumir más personas."
   ]
  },
  {
   "cell_type": "code",
   "execution_count": 3,
   "metadata": {},
   "outputs": [
    {
     "data": {
      "text/plain": [
       "array([0., 0., 0., 1., 0., 1., 0., 0., 1., 0., 0., 1., 0., 0., 0., 1., 0.,\n",
       "       0., 0., 0., 0., 1., 2., 0., 1., 1., 1., 2., 0., 0., 2., 0., 1., 1.,\n",
       "       1., 1., 1., 0., 1., 0., 2., 2., 1., 1., 0., 2., 0., 1., 0., 0., 0.,\n",
       "       0., 0., 0., 0., 0., 0., 1., 0., 1., 0., 0., 2., 0., 2., 3., 2., 2.,\n",
       "       3., 6., 5., 7., 3., 4., 3., 3., 0., 1., 0., 0., 2., 1., 0., 0., 0.,\n",
       "       0., 0., 0., 0., 0., 0., 0., 0., 0., 1., 0., 0., 0., 0., 0., 1., 0.,\n",
       "       0., 1., 1., 0., 0., 0., 1., 0., 0., 1., 2., 2., 2., 0., 1., 0., 1.,\n",
       "       0., 0., 1., 2., 0., 3., 0., 1., 3., 1., 0., 0., 2., 1., 1., 1., 0.,\n",
       "       0., 0., 1., 1., 2., 0., 0., 0., 0., 0., 0., 0., 0., 0.])"
      ]
     },
     "execution_count": 3,
     "metadata": {},
     "output_type": "execute_result"
    }
   ],
   "source": [
    "muestra"
   ]
  },
  {
   "cell_type": "code",
   "execution_count": 4,
   "metadata": {},
   "outputs": [
    {
     "name": "stdout",
     "output_type": "stream",
     "text": [
      "115.0\n"
     ]
    }
   ],
   "source": [
    "Num_personas = 0\n",
    "for i in range(len(muestra)):\n",
    "    Num_personas += muestra[i]\n",
    "    \n",
    "print(Num_personas)"
   ]
  },
  {
   "cell_type": "code",
   "execution_count": 5,
   "metadata": {},
   "outputs": [
    {
     "data": {
      "text/plain": [
       "115.0"
      ]
     },
     "execution_count": 5,
     "metadata": {},
     "output_type": "execute_result"
    }
   ],
   "source": [
    "np.sum(muestra)"
   ]
  },
  {
   "cell_type": "markdown",
   "metadata": {},
   "source": [
    "$$\n",
    "\\frac{1}{Num_{personas}}\\sum_{100}^{110} muestra[i] = \\sum_{i=100}^{110} P_i \\approx \\int_{100}^{110} p(x) dx\n",
    "$$"
   ]
  },
  {
   "cell_type": "code",
   "execution_count": 8,
   "metadata": {},
   "outputs": [
    {
     "data": {
      "text/plain": [
       "<matplotlib.legend.Legend at 0x7fbe7fe61e80>"
      ]
     },
     "execution_count": 8,
     "metadata": {},
     "output_type": "execute_result"
    },
    {
     "data": {
      "image/png": "[encoded data removed]",
      "text/plain": [
       "<Figure size 432x288 with 1 Axes>"
      ]
     },
     "metadata": {
      "needs_background": "light"
     },
     "output_type": "display_data"
    }
   ],
   "source": [
    "# Definimos la PDF\n",
    "pdf = muestra/Num_personas\n",
    "plt.bar(binscenters, pdf, width=bin_width, color='gray', label=r'Muestra')\n",
    "plt.xlabel(\"Distancia [m]\")\n",
    "plt.ylabel(\"Frecuencias de aparición\")\n",
    "plt.xlim(0,150)\n",
    "plt.legend()"
   ]
  },
  {
   "cell_type": "code",
   "execution_count": 10,
   "metadata": {},
   "outputs": [
    {
     "ename": "SyntaxError",
     "evalue": "invalid syntax (<ipython-input-10-0561ebbf9cde>, line 5)",
     "output_type": "error",
     "traceback": [
      "\u001b[0;36m  File \u001b[0;32m\"<ipython-input-10-0561ebbf9cde>\"\u001b[0;36m, line \u001b[0;32m5\u001b[0m\n\u001b[0;31m    .\u001b[0m\n\u001b[0m    ^\u001b[0m\n\u001b[0;31mSyntaxError\u001b[0m\u001b[0;31m:\u001b[0m invalid syntax\n"
     ]
    }
   ],
   "source": [
    "# Sumar los elementos de la pdf entre x = 100 y 110.\n",
    "# Un loop que recorra sobre los binscenters.\n",
    "# Y si binscenter[i] está entre 100 y 110. Sumar la PDF \n",
    "# para obtener la probabilidad.\n",
    "# .\n",
    "# .\n",
    "# .\n",
    "# ~0.05=5%"
   ]
  },
  {
   "cell_type": "code",
   "execution_count": 18,
   "metadata": {},
   "outputs": [],
   "source": [
    "# Ajustar un modelo usando curve_fit\n",
    "# Modificar esto.\n",
    "\n",
    "def gauss(x, A, mu, sigma):\n",
    "    return (A * np.exp(-1.0 * (x - mu)**2 / (2 * sigma**2)))\n",
    "\n",
    "def gauss2(x, A, mu1, sigma1, B, mu2, sigma2):\n",
    "    return (A * np.exp(-1.0 * (x - mu1)**2 / (2 * sigma1**2)) + B * np.exp(-1.0 * (x - mu2)**2 / (2 * sigma2**2)))"
   ]
  },
  {
   "cell_type": "code",
   "execution_count": 26,
   "metadata": {},
   "outputs": [],
   "source": [
    "from scipy.optimize import curve_fit\n",
    "\n",
    "p0 = [0.05,70,30] # Priors del ajuste (A,mu,sigma)\n",
    "params1, pcov = curve_fit(gauss, xdata=binscenters, ydata=pdf, p0=p0)\n",
    "\n",
    "p0 = [0.05,70,30,0.01,120,10] # Priors del ajuste (A,mu,sigma)\n",
    "params2, pcov = curve_fit(gauss2, xdata=binscenters, ydata=pdf, p0=p0)"
   ]
  },
  {
   "cell_type": "code",
   "execution_count": 27,
   "metadata": {},
   "outputs": [
    {
     "data": {
      "text/plain": [
       "<matplotlib.legend.Legend at 0x7fbe7d5a1220>"
      ]
     },
     "execution_count": 27,
     "metadata": {},
     "output_type": "execute_result"
    },
    {
     "data": {
      "image/png": "[encoded data removed]",
      "text/plain": [
       "<Figure size 432x288 with 1 Axes>"
      ]
     },
     "metadata": {
      "needs_background": "light"
     },
     "output_type": "display_data"
    }
   ],
   "source": [
    "x = np.linspace(0,150,1500)\n",
    "plt.bar(binscenters, pdf, width=bin_width, color='gray', label=r'Muestra')\n",
    "plt.plot(x,gauss(x,*params1))\n",
    "plt.xlabel(\"Distancia [m]\")\n",
    "plt.ylabel(\"Frecuencias de aparición\")\n",
    "plt.xlim(0,150)\n",
    "plt.legend()"
   ]
  },
  {
   "cell_type": "code",
   "execution_count": 28,
   "metadata": {},
   "outputs": [
    {
     "data": {
      "text/plain": [
       "<matplotlib.legend.Legend at 0x7fbe7d5ca550>"
      ]
     },
     "execution_count": 28,
     "metadata": {},
     "output_type": "execute_result"
    },
    {
     "data": {
      "image/png": "[encoded data removed]",
      "text/plain": [
       "<Figure size 432x288 with 1 Axes>"
      ]
     },
     "metadata": {
      "needs_background": "light"
     },
     "output_type": "display_data"
    }
   ],
   "source": [
    "x = np.linspace(0,150,1500)\n",
    "plt.bar(binscenters, pdf, width=bin_width, color='gray', label=r'Muestra')\n",
    "plt.plot(x,gauss2(x,*params2))\n",
    "plt.xlabel(\"Distancia [m]\")\n",
    "plt.ylabel(\"Frecuencias de aparición\")\n",
    "plt.xlim(0,150)\n",
    "plt.legend()"
   ]
  },
  {
   "cell_type": "code",
   "execution_count": 29,
   "metadata": {},
   "outputs": [],
   "source": [
    "x = np.linspace(0,150,1500)\n",
    "pdf_fit = gauss2(x,*params2)\n",
    "# Sumar los elementos de la pdf entre x = 100 y 110.\n",
    "# Un loop que recorra sobre los binscenters.\n",
    "# Y si x[i] está entre 100 y 110. Sumar la PDF_fit \n",
    "# para obtener la probabilidad.\n",
    "# .\n",
    "# .\n",
    "# .\n",
    "# ~0.05=5%"
   ]
  },
  {
   "cell_type": "code",
   "execution_count": 30,
   "metadata": {},
   "outputs": [],
   "source": [
    "# Calculamos la CDF a partir de la distribución y normalizamos para obtener la PDF.\n",
    "cdf = []\n",
    "        \n",
    "dumb = 0\n",
    "for i in np.arange(len(x)):\n",
    "    dumb += pdf_fit[i]*(x.max()-x.min())/len(x)\n",
    "    cdf.append(dumb)\n",
    "\n",
    "# Normalizamos nuestra distribución y calculamos PDF y CDF.\n",
    "norm = dumb\n",
    "#pdf = dist_pdf/norm\n",
    "cdf = np.array(cdf)/norm"
   ]
  },
  {
   "cell_type": "code",
   "execution_count": 31,
   "metadata": {
    "scrolled": false
   },
   "outputs": [
    {
     "data": {
      "text/plain": [
       "[<matplotlib.lines.Line2D at 0x7fbe7d1ae400>]"
      ]
     },
     "execution_count": 31,
     "metadata": {},
     "output_type": "execute_result"
    },
    {
     "data": {
      "image/png": "[encoded data removed]",
      "text/plain": [
       "<Figure size 432x288 with 1 Axes>"
      ]
     },
     "metadata": {
      "needs_background": "light"
     },
     "output_type": "display_data"
    }
   ],
   "source": [
    "plt.plot(x,cdf)"
   ]
  },
  {
   "cell_type": "code",
   "execution_count": 119,
   "metadata": {},
   "outputs": [
    {
     "data": {
      "text/plain": [
       "[<matplotlib.lines.Line2D at 0x7fbe7c94e4f0>]"
      ]
     },
     "execution_count": 119,
     "metadata": {},
     "output_type": "execute_result"
    },
    {
     "data": {
      "image/png": "[encoded data removed]",
      "text/plain": [
       "<Figure size 432x288 with 1 Axes>"
      ]
     },
     "metadata": {
      "needs_background": "light"
     },
     "output_type": "display_data"
    }
   ],
   "source": [
    "plt.plot(cdf,x)"
   ]
  },
  {
   "cell_type": "code",
   "execution_count": 106,
   "metadata": {},
   "outputs": [],
   "source": [
    "def gauss_real(x,mu, sigma):\n",
    "    return (np.exp(-1.0 * (x - mu)**2 / (2 * sigma**2))/np.sqrt(2.0*np.pi*sigma**2))"
   ]
  },
  {
   "cell_type": "code",
   "execution_count": 118,
   "metadata": {},
   "outputs": [
    {
     "data": {
      "text/plain": [
       "(0.0, 10.0)"
      ]
     },
     "execution_count": 118,
     "metadata": {},
     "output_type": "execute_result"
    },
    {
     "data": {
      "image/png": "[encoded data removed]",
      "text/plain": [
       "<Figure size 432x288 with 1 Axes>"
      ]
     },
     "metadata": {
      "needs_background": "light"
     },
     "output_type": "display_data"
    }
   ],
   "source": [
    "pdf_gauss = np.random.normal(5,1,size=100) # --> Para tiradas MC\n",
    "plt.hist(pdf_gauss,density=True)\n",
    "plt.plot(x,gauss_real(x,5,1))\n",
    "plt.xlim(0,10)"
   ]
  },
  {
   "cell_type": "code",
   "execution_count": 132,
   "metadata": {},
   "outputs": [],
   "source": [
    "from scipy import interpolate\n",
    "\n",
    "# Interpolamos de manera inversa para obtener f = CDF⁻¹\n",
    "f = interpolate.interp1d(cdf,x,kind='cubic')"
   ]
  },
  {
   "cell_type": "code",
   "execution_count": 135,
   "metadata": {},
   "outputs": [
    {
     "data": {
      "text/plain": [
       "[<matplotlib.lines.Line2D at 0x7fbe7d5e1f40>]"
      ]
     },
     "execution_count": 135,
     "metadata": {},
     "output_type": "execute_result"
    },
    {
     "data": {
      "image/png": "[encoded data removed]",
      "text/plain": [
       "<Figure size 432x288 with 1 Axes>"
      ]
     },
     "metadata": {
      "needs_background": "light"
     },
     "output_type": "display_data"
    }
   ],
   "source": [
    "x = np.linspace(0.001,0.99,1000)\n",
    "plt.plot(x,f(x))"
   ]
  },
  {
   "cell_type": "code",
   "execution_count": 143,
   "metadata": {},
   "outputs": [],
   "source": [
    "x_new = np.random.uniform(0.005,0.999,size=115)\n",
    "sample = f(x_new)"
   ]
  },
  {
   "cell_type": "code",
   "execution_count": 144,
   "metadata": {},
   "outputs": [
    {
     "data": {
      "text/plain": [
       "<BarContainer object of 150 artists>"
      ]
     },
     "execution_count": 144,
     "metadata": {},
     "output_type": "execute_result"
    },
    {
     "data": {
      "image/png": "[encoded data removed]",
      "text/plain": [
       "<Figure size 432x288 with 1 Axes>"
      ]
     },
     "metadata": {
      "needs_background": "light"
     },
     "output_type": "display_data"
    }
   ],
   "source": [
    "plt.hist(sample,bins=150,density=True)\n",
    "plt.bar(binscenters, pdf, width=bin_width, color='gray', label=r'Muestra')"
   ]
  },
  {
   "cell_type": "code",
   "execution_count": null,
   "metadata": {},
   "outputs": [],
   "source": [
    "# ¿Cómo calcularian para los 365 días del año?\n",
    "# Empieza el MC\n",
    "n_sim = 365\n",
    "for i in range(n_sim):\n",
    "    x_sim = np.random.uniform(0,1,size=115) # ojo, esto es otro prior porque no tiene que ser uniforme\n",
    "    y_gen = f(x_sim) # Simulan distribuciones distintas siguiendo un prior f -> Muestre siguiendo distribución\n",
    "                     # 2 gaussianas "
   ]
  }
 ],
 "metadata": {
  "kernelspec": {
   "display_name": "Python 3",
   "language": "python",
   "name": "python3"
  },
  "language_info": {
   "codemirror_mode": {
    "name": "ipython",
    "version": 3
   },
   "file_extension": ".py",
   "mimetype": "text/x-python",
   "name": "python",
   "nbconvert_exporter": "python",
   "pygments_lexer": "ipython3",
   "version": "3.8.3"
  }
 },
 "nbformat": 4,
 "nbformat_minor": 4
}
