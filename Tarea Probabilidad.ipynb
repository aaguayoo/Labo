{
 "cells": [
  {
   "cell_type": "markdown",
   "metadata": {},
   "source": [
    "# Tarea - Probabilidad, Ajuste de Modelos y MC"
   ]
  },
  {
   "cell_type": "markdown",
   "metadata": {},
   "source": [
    "El archivo \"data.txt\" muestra la distribución de la gente en un andén del metro a lo largo de un día. La estación del metro tiene tres entradas al andén colocadas a 30, 70 y 120 metros, respecto del inicio del andén, el cual mide 150 metros en total.\n",
    "\n",
    "La distribución se obtuvo contando a todas las personas distribuidas cada 1 metro de principio a fin. De esta forma se obtiene la siguiente distribución con 150 \"bins\"."
   ]
  },
  {
   "cell_type": "code",
   "execution_count": 1,
   "metadata": {},
   "outputs": [],
   "source": [
    "import numpy as np\n",
    "import matplotlib.pyplot as plt\n",
    "# LaTeX\n",
    "plt.rc('font', family='serif')\n",
    "plt.rc('text', usetex=True)\n",
    "\n",
    "data = np.loadtxt(\"data.txt\",unpack=True)\n",
    "binscenters  = data[0] # Centro de los bins\n",
    "muestra      = data[1] # Datos de la distribución\n",
    "bin_width    = 1 # El conteo se hace cada 1 metro"
   ]
  },
  {
   "cell_type": "code",
   "execution_count": 2,
   "metadata": {},
   "outputs": [
    {
     "data": {
      "text/plain": [
       "<matplotlib.legend.Legend at 0x7f9a82ee6a90>"
      ]
     },
     "execution_count": 2,
     "metadata": {},
     "output_type": "execute_result"
    },
    {
     "data": {
      "image/png": "[encoded data removed]",
      "text/plain": [
       "<Figure size 432x288 with 1 Axes>"
      ]
     },
     "metadata": {
      "needs_background": "light"
     },
     "output_type": "display_data"
    }
   ],
   "source": [
    "plt.bar(binscenters, muestra, width=bin_width, color='gray', label=r'Muestra')\n",
    "plt.xlabel(\"Distancia [m]\")\n",
    "plt.ylabel(\"Número de personas\")\n",
    "plt.xlim(0,150)\n",
    "plt.legend()"
   ]
  },
  {
   "cell_type": "markdown",
   "metadata": {},
   "source": [
    "Esta distribución es una muestra representativa de lo que sucede todos los días a lo largo del año, pero sigue siendo sólo un día el que se muestra. Lo ideal sería realizar el conteo durante todos los días para así tener un estimado de la distribución en el año. Sin embargo, esto último resulta imposible, al menos en la práctica.\n",
    "\n",
    "Preguntas:\n",
    "\n",
    "- ¿Cuántas personas hubo en la estación ese día?\n",
    "- ¿Cuál es la probabilidad de encontrar 1 persona entre los 100 y 110 metros de la estación durante este día?.\n",
    "- ¿Podrías estimar de alguna forma cuál sería la probabilidad de encontrar 1 persona entre los 100 y 110 metros, pero durante todo el año?\n",
    "- ¿Cuál es la posición más probable para encontrar a una persona (valor esperado) en el día? ¿Y a lo largo del año?\n",
    "- ¿Qué conclusiones puedes dar? ¿Es posible dar una estimación correcta de estos resultados a lo largo del año? ¿Qué cambiarías"
   ]
  },
  {
   "cell_type": "markdown",
   "metadata": {},
   "source": [
    "Tips:\n",
    "\n",
    "1) Supón todo lo que tengas que suponer, pero arguméntalo.\n",
    "\n",
    "2) Usa cualquiera de las cosas que hayamos visto (checa los notebooks Probabilidad.ipynb, Pi_Estimation.ipynb, Ajuste de Modelo - MC.ipynb).\n",
    "\n",
    "3) Es conveniente ajustar un modelo a los datos.\n",
    "\n",
    "4) Nota que la distribución que tienes no está normalizada, por lo que no es una PDF todavía.\n",
    "\n",
    "5) Recuerda que \n",
    "$$ \n",
    "\\int_0^{150} p(x) \\, \\mathrm{d}x = 1.\n",
    "$$\n",
    "6) Calcula la función acumulativa (CDF). Esta función debe valer 1 en 150, con esto sabrás si tu PDF está bien normalizada.\n",
    "\n",
    "7) Para las preguntas sobre cuál sería la probabilidad a lo largo del año, te recomiendo realizar 365 simulaciones Monte Carlo (una por cada día del año) asumiendo una distribución que se acople a los datos que tienes (punto 3) y obteniendo una muestra distinta (sample, distribución) de N personas para cada día. Puedes asumir que cada día hay la misma cantidad N de personas o, si quieres, asumir una forma más complicada como, por ejemplo, que en días festivos no hay tanta gente como en un viernes de quincena, o simplemente asumir más personas."
   ]
  }
 ],
 "metadata": {
  "kernelspec": {
   "display_name": "Python 3",
   "language": "python",
   "name": "python3"
  },
  "language_info": {
   "codemirror_mode": {
    "name": "ipython",
    "version": 3
   },
   "file_extension": ".py",
   "mimetype": "text/x-python",
   "name": "python",
   "nbconvert_exporter": "python",
   "pygments_lexer": "ipython3",
   "version": "3.8.3"
  }
 },
 "nbformat": 4,
 "nbformat_minor": 4
}
