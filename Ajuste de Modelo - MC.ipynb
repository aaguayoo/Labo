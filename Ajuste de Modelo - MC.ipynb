{
 "cells": [
  {
   "cell_type": "markdown",
   "metadata": {},
   "source": [
    "# MC para ajuste de modelo a datos experimentales\n",
    "\n",
    "- Problema: Tenemos pocos datos experimentales como para hacer un buen ajuste de un modelo.\n",
    "\n",
    "- Solución: Realizamos simulaciones MC de datos sintéticos para estimar: 1) valores promedio de los parámetros para del modelo y 2) los errores de dichos parámetros.\n",
    "\n",
    "Pasos a seguir:\n",
    "\n",
    "1) Obtenemos los datos experimentales con sus respectivos errores.\n",
    "\n",
    "2) Hacemos un ajuste \"rápido\" de nuestro modelo.\n",
    "\n",
    "3) Utilizando el ajuste anterior realizamos un número gránde N de simulaciones MC. Cada simulación consistirá en general datos sintéticos que tengan el mismo número de puntos que los datos experimentales.\n",
    "\n",
    "4) A partir de las N simulaciones obtenemos una distribución de valores de los parámetros del modelo. De aquí podemos obtener un valor medio para cada parámetro, así como su desviación estándar."
   ]
  },
  {
   "cell_type": "code",
   "execution_count": 1,
   "metadata": {},
   "outputs": [],
   "source": [
    "import pylab as pl\n",
    "import numpy as np\n",
    "import matplotlib.pyplot as plt\n",
    "from scipy import optimize"
   ]
  },
  {
   "cell_type": "code",
   "execution_count": 150,
   "metadata": {},
   "outputs": [],
   "source": [
    "# Creamos unos datos \"experimentales\"\n",
    "# No hay que hacerle mucho caso\n",
    "\n",
    "np.random.seed(1323623)\n",
    "\n",
    "xmin = 0.5\n",
    "xmax = 3.0\n",
    "n_data = 10\n",
    "\n",
    "# Parámetros reales del modelo\n",
    "# En principio estos valores no los conocemos\n",
    "a_real =  1.5\n",
    "b_real = -1.0\n",
    "\n",
    "x_exp   = np.random.uniform(xmin,xmax,size=n_data)\n",
    "y_real  = a_real * x_exp**b_real\n",
    "s_error = 0.1/x_exp\n",
    "y_exp   = y_real + np.random.normal(scale=s_error,size=np.size(y_real))"
   ]
  },
  {
   "cell_type": "code",
   "execution_count": 151,
   "metadata": {},
   "outputs": [
    {
     "data": {
      "text/plain": [
       "<ErrorbarContainer object of 3 artists>"
      ]
     },
     "execution_count": 151,
     "metadata": {},
     "output_type": "execute_result"
    },
    {
     "data": {
      "image/png": "[encoded data removed]",
      "text/plain": [
       "<Figure size 432x288 with 1 Axes>"
      ]
     },
     "metadata": {
      "needs_background": "light"
     },
     "output_type": "display_data"
    }
   ],
   "source": [
    "# Graficamos los datos experimentales\n",
    "plt.errorbar(x_exp,y_exp,yerr=s_error,lw=0,elinewidth=2,ecolor=\"b\",fmt='ko',markersize=4)"
   ]
  },
  {
   "cell_type": "markdown",
   "metadata": {},
   "source": [
    "Para saber qué modelo ajustar, necesitamos un buen _prior_\n",
    "\n",
    "- prior: cualquier cosa que me diga algo sobre lo que estoy observando\n",
    "\n",
    "Para este ejemplo nuestro _prior_ será suponer que los datos siguen una tendencia que va como\n",
    "$$\n",
    "y \\propto \\frac{1}{x^2}\n",
    "$$\n",
    "\n",
    "Entonces el modelo que ajustaremos, siguiendo nuestro _prior_ será:\n",
    "\n",
    "$$\n",
    "y(x|a,b) = \\frac{a}{x^b}\n",
    "$$"
   ]
  },
  {
   "cell_type": "code",
   "execution_count": 152,
   "metadata": {},
   "outputs": [],
   "source": [
    "# Utilizamos nuestro prior y ajustamos el modelo elegido\n",
    "\n",
    "def power_law(x,a,b):\n",
    "    return a*x**b"
   ]
  },
  {
   "cell_type": "code",
   "execution_count": 153,
   "metadata": {},
   "outputs": [
    {
     "name": "stdout",
     "output_type": "stream",
     "text": [
      "[ 1.49490637 -1.09745371]\n"
     ]
    }
   ],
   "source": [
    "# El prior del prior. Qué parámetros pienso yo que se le ajusta mejor a lo que veo.\n",
    "vGuess = [1.0,2.0] # Es a ojo \n",
    "\n",
    "# Hacemos el ajuste\n",
    "vParams, aCova = optimize.curve_fit(power_law,x_exp,y_exp,vGuess)\n",
    "print(vParams)"
   ]
  },
  {
   "cell_type": "code",
   "execution_count": 154,
   "metadata": {},
   "outputs": [
    {
     "data": {
      "text/plain": [
       "[<matplotlib.lines.Line2D at 0x7f209df97b50>]"
      ]
     },
     "execution_count": 154,
     "metadata": {},
     "output_type": "execute_result"
    },
    {
     "data": {
      "image/png": "[encoded data removed]",
      "text/plain": [
       "<Figure size 432x288 with 1 Axes>"
      ]
     },
     "metadata": {
      "needs_background": "light"
     },
     "output_type": "display_data"
    }
   ],
   "source": [
    "# Plotteamos el ajuste con los datos\n",
    "x_fine = np.linspace(xmin,xmax,100)\n",
    "plt.errorbar(x_exp,y_exp,yerr=s_error,lw=0,elinewidth=2,ecolor=\"b\",fmt='ko',markersize=4)\n",
    "plt.plot(x_fine,power_law(x_fine,*vParams),\"g-\",lw=2)"
   ]
  },
  {
   "cell_type": "code",
   "execution_count": 155,
   "metadata": {},
   "outputs": [],
   "source": [
    "# Creamos simulaciones MC para hacer datos exp. sintéticos.\n",
    "# Para cada simulación obtendremos un valor de a y b.\n",
    "# Y finalmente obtendre una distribución para a y b, de la cual\n",
    "# podemos calcular la desviación estandar y ese sería el error.\n",
    "\n",
    "n_sim = 50000\n",
    "FitParams = np.array([])"
   ]
  },
  {
   "cell_type": "code",
   "execution_count": 156,
   "metadata": {},
   "outputs": [],
   "source": [
    "# Empieza el MC\n",
    "for i in range(n_sim):\n",
    "    x_sim = np.random.uniform(0.5,3.0,size=np.size(x_exp)) # ojo, esto es otro prior porque no tiene que ser uniforme\n",
    "    y_gen = vParams[0]*x_sim**vParams[1] # Agarrar el ajuste anterior y ponerlo como prior de las simulaciones.\n",
    "    y_sim = y_gen + np.random.normal(scale=s_error,size=np.size(y_gen))\n",
    "    \n",
    "    try:\n",
    "        vsims, acova = optimize.curve_fit(power_law,x_sim,y_sim,vGuess)\n",
    "    except:\n",
    "        dumdum=1\n",
    "        continue # Pasa al siguiente loop\n",
    "        \n",
    "    if np.size(FitParams) < 1:\n",
    "        FitParams = np.copy(vsims)\n",
    "    else:\n",
    "        FitParams = np.vstack(( FitParams, vsims ))"
   ]
  },
  {
   "cell_type": "code",
   "execution_count": 157,
   "metadata": {},
   "outputs": [
    {
     "name": "stdout",
     "output_type": "stream",
     "text": [
      "[[ 1.40762695 -0.96835873]\n",
      " [ 1.50333612 -1.07459062]\n",
      " [ 1.47344147 -1.16180256]\n",
      " ...\n",
      " [ 1.49922282 -1.02971333]\n",
      " [ 1.56853555 -1.07064821]\n",
      " [ 1.48852252 -1.03670772]]\n"
     ]
    }
   ],
   "source": [
    "np.shape(FitParams)\n",
    "print(FitParams)"
   ]
  },
  {
   "cell_type": "code",
   "execution_count": 158,
   "metadata": {},
   "outputs": [
    {
     "name": "stdout",
     "output_type": "stream",
     "text": [
      "Para el parámetro a\n",
      "1.494431045086496\n",
      "0.05006785903164528\n"
     ]
    }
   ],
   "source": [
    "# Calcular el valor medio de los parámetros a\n",
    "print (\"Para el parámetro a\")\n",
    "print (np.median(FitParams[:,0]))\n",
    "print (np.std(FitParams[:,0]))"
   ]
  },
  {
   "cell_type": "code",
   "execution_count": 159,
   "metadata": {},
   "outputs": [
    {
     "name": "stdout",
     "output_type": "stream",
     "text": [
      "Para el parámetro b\n",
      "-1.097187045473693\n",
      "0.06605168961026377\n"
     ]
    }
   ],
   "source": [
    "# Calcular el valor medio de los parámetros b\n",
    "print (\"Para el parámetro b\")\n",
    "print (np.median(FitParams[:,1]))\n",
    "print (np.std(FitParams[:,1]))"
   ]
  },
  {
   "cell_type": "code",
   "execution_count": 160,
   "metadata": {},
   "outputs": [],
   "source": [
    "med_a = np.median(FitParams[:,0])\n",
    "std_a = np.std(FitParams[:,0])\n",
    "med_b = np.median(FitParams[:,1])\n",
    "std_b = np.std(FitParams[:,1])"
   ]
  },
  {
   "cell_type": "code",
   "execution_count": 161,
   "metadata": {},
   "outputs": [
    {
     "data": {
      "text/plain": [
       "Text(0.5, 0, 'Parámetro a')"
      ]
     },
     "execution_count": 161,
     "metadata": {},
     "output_type": "execute_result"
    },
    {
     "data": {
      "image/png": "[encoded data removed]",
      "text/plain": [
       "<Figure size 432x288 with 1 Axes>"
      ]
     },
     "metadata": {
      "needs_background": "light"
     },
     "output_type": "display_data"
    }
   ],
   "source": [
    "hist_a = pl.hist(FitParams[:,0],bins=1000)\n",
    "plt.xlim(0,5)\n",
    "plt.ylabel(\"Frecuencia\")\n",
    "plt.xlabel(\"Parámetro a\")"
   ]
  },
  {
   "cell_type": "code",
   "execution_count": 162,
   "metadata": {},
   "outputs": [
    {
     "data": {
      "text/plain": [
       "Text(0.5, 0, 'Parámetro b')"
      ]
     },
     "execution_count": 162,
     "metadata": {},
     "output_type": "execute_result"
    },
    {
     "data": {
      "image/png": "[encoded data removed]",
      "text/plain": [
       "<Figure size 432x288 with 1 Axes>"
      ]
     },
     "metadata": {
      "needs_background": "light"
     },
     "output_type": "display_data"
    }
   ],
   "source": [
    "hist_b = pl.hist(FitParams[:,1],bins=1000)\n",
    "plt.xlim(-3,0)\n",
    "plt.ylabel(\"Frecuencia\")\n",
    "plt.xlabel(\"Parámetro b\")"
   ]
  },
  {
   "cell_type": "code",
   "execution_count": 163,
   "metadata": {},
   "outputs": [
    {
     "data": {
      "text/plain": [
       "[<matplotlib.lines.Line2D at 0x7f209ca23280>]"
      ]
     },
     "execution_count": 163,
     "metadata": {},
     "output_type": "execute_result"
    },
    {
     "data": {
      "image/png": "[encoded data removed]",
      "text/plain": [
       "<Figure size 432x288 with 1 Axes>"
      ]
     },
     "metadata": {
      "needs_background": "light"
     },
     "output_type": "display_data"
    }
   ],
   "source": [
    "x_fine = np.linspace(xmin,xmax,100)\n",
    "plt.errorbar(x_exp,y_exp,yerr=s_error,lw=0,elinewidth=2,ecolor=\"b\",fmt='ko',markersize=4)\n",
    "pl.plot(x_fine,power_law(x_fine,med_a,med_b),\"g-\",lw=1)\n",
    "pl.plot(x_fine,power_law(x_fine,med_a + std_a,med_b),\"b-\",lw=0.5)\n",
    "pl.plot(x_fine,power_law(x_fine,med_a - std_a,med_b),\"b-\",lw=0.5)\n",
    "pl.plot(x_fine,power_law(x_fine,med_a,med_b + std_b),\"r-\",lw=0.5)\n",
    "pl.plot(x_fine,power_law(x_fine,med_a,med_b - std_b),\"r-\",lw=0.5)\n",
    "pl.plot(x_fine,power_law(x_fine,a_real,b_real),\"k-\",lw=1,alpha=0.3)"
   ]
  },
  {
   "cell_type": "code",
   "execution_count": null,
   "metadata": {},
   "outputs": [],
   "source": []
  }
 ],
 "metadata": {
  "kernelspec": {
   "display_name": "Python 3",
   "language": "python",
   "name": "python3"
  },
  "language_info": {
   "codemirror_mode": {
    "name": "ipython",
    "version": 3
   },
   "file_extension": ".py",
   "mimetype": "text/x-python",
   "name": "python",
   "nbconvert_exporter": "python",
   "pygments_lexer": "ipython3",
   "version": "3.8.3"
  }
 },
 "nbformat": 4,
 "nbformat_minor": 4
}
