{
 "cells": [
  {
   "cell_type": "markdown",
   "metadata": {},
   "source": [
    "# Máxima Verosimilitud\n",
    "\n",
    "La técnica de Estimación por Máxima Verosimilitud (Maximum Likelihood Estimation, MLE), responde a la pregunta:\n",
    "\n",
    "- Dada una serie de datos experimentales y un modelo que los ajusta, ¿cuál es el conjunto de parámetros del modelo que tienen la mayor probabilidad de ajustar a los datos?"
   ]
  },
  {
   "cell_type": "markdown",
   "metadata": {},
   "source": [
    "- Ejemplo 1:\n",
    "\n",
    "Lanzamos una moneda 100 veces y obtenemos que 55 veces cae águila $(A)$. Encontremos la estimación de máxima verosimilitud (MLE) para la probabilidad $p$ de obtener $A$ en una sola tirada.\n",
    "\n",
    "De entrada sabemos que, si la moneda es justa, la probabilidad de obtener $A$ en un tiro es de 1/2. Sin embargo, si no sabemos si la moneda es justa (dado a que no es uniforme, es un poco más pesada de un lado, etc), no podemos saber el valor de $p$ a priori, más allá de una estimación \"a ojo\". Por lo cual es recomendable, entonces, realizar muchos tiros para obtener una distribución y un valor medio.\n",
    "\n",
    "Una manera de hacer esto es lanzar la moneda una cantidad N de veces y la probabilidad de obtener águila sería:\n",
    "$$\n",
    "P(A) = p = \\frac{n_{A}}{N} = 0.55.\n",
    "$$\n",
    "\n",
    "Sin embargo, ésta definición no contempla el hecho de que obtener n_A veces águila, está condicionada al valor de $p$. Es decir, $P(n_A | p)$. Así que otra forma de hacer es preguntarse cuál es la probabilidad de obtener $n_A$ dado que se realizaron N tiros, y dado que existe una probabilidad $p$ de obtener $A$ en un tiro.\n",
    "\n",
    "$$\n",
    "P(n_A | p) = {N\\choose n_A} p^{n_A} (1 - p)^{N - n_A}.\n",
    "$$\n",
    "\n",
    "Esto se lee como: \"La probabilidad de obtener $n_A$ veces águila, dada que la probabilidad de obtener $A$ en un tiro individual es $p$\".\n",
    "\n",
    "De aquí tenemos:\n",
    "\n",
    "- Experimento: Realizar N tiros y contar el número de águilas.\n",
    "- Datos: Obtener el número de resultados donde obtenemos águila, i.e., $n_A$.\n",
    "- Parámetro de interés: Nos interesa saber el valor de $p$.\n",
    "- Función de verosimilitud (likelihood function): esta es la función que nos dice la probabilidad de obtener $n_A$ veces águila, dada que la probabilida de obtener $A$ en un tiro individual es $p$, i.e., $P(datos | p) = P(n_A | p)$.\n",
    "\n",
    "Dados los datos obteniedos, la estimación por máxima verosimilitud para el parámetro $p$ es el valor de $p$ que maximisa la función de verosimilitud $P(datos | p)$. Esto es, la MLE es el valor de $p$ para el cual los datos son más posibles.\n",
    "\n",
    "En este ejemplo, la función es:\n",
    "\n",
    "$$\n",
    "P(55 A | p) = {100 \\choose 55}p^{55}(1-p)^{45}.\n",
    "$$\n",
    "\n",
    "Para maximizar la función, derivamos respecto de $p$ e igualamos a cero:\n",
    "$$\n",
    "\\frac{\\mathrm{d}P}{\\mathrm{d}p} = {100 \\choose 55}(55 p^{54}(1 - p)^{45} - 45p^{55}(1-p)^{44}) ) 0.\n",
    "$$\n",
    "\n",
    "De aquí obtenemos que la MLE de $p$ es $\\hat{p} = 0.55$, que ya sabíamos desde antes, dada la simpleza del problema, pero esta sería la forma correcta de calcularla.\n",
    "\n",
    "### Log likelihood\n",
    "\n",
    "A veces la forma más sencilla de obtener la MLE, es maximizando el logaritmo de la función, y no la función en sí. A esto se le conoce como Log Likelihood."
   ]
  },
  {
   "cell_type": "markdown",
   "metadata": {},
   "source": [
    "# Ajuste de un modelo con Mínimos Cuadrádos y con Maximum Likelihood"
   ]
  },
  {
   "cell_type": "code",
   "execution_count": 1,
   "metadata": {},
   "outputs": [],
   "source": [
    "import numpy as np\n",
    "import matplotlib.pyplot as plt"
   ]
  },
  {
   "cell_type": "markdown",
   "metadata": {},
   "source": [
    "Generemos datos sintéticos de los cuales confiamos en sus\n",
    "barras de error. Esto significa, que el error asocidado, obtenido de la mediciones, es lo suficientemente grande, en comparación con la dispersión de datos, tal que un ajuste normal pasa a través de todas las barras de error"
   ]
  },
  {
   "cell_type": "code",
   "execution_count": 28,
   "metadata": {},
   "outputs": [
    {
     "data": {
      "text/plain": [
       "Text(0, 0.5, 'y')"
      ]
     },
     "execution_count": 28,
     "metadata": {},
     "output_type": "execute_result"
    },
    {
     "data": {
      "image/png": "[encoded data removed]",
      "text/plain": [
       "<Figure size 432x288 with 1 Axes>"
      ]
     },
     "metadata": {
      "needs_background": "light"
     },
     "output_type": "display_data"
    }
   ],
   "source": [
    "np.random.seed(123)\n",
    "\n",
    "# Choose the \"true\" parameters.\n",
    "m_true = -0.9594\n",
    "b_true = 4.294\n",
    "\n",
    "# Generate some synthetic data from the model.\n",
    "N = 50\n",
    "x = np.sort(10 * np.random.rand(N))\n",
    "yerr = 0.1 + 0.5 * np.random.rand(N)\n",
    "y = m_true * x + b_true\n",
    "y += yerr * np.random.randn(N)\n",
    "\n",
    "plt.errorbar(x, y, yerr=yerr, fmt=\".k\", capsize=0)\n",
    "x0 = np.linspace(0, 10, 500)\n",
    "#plt.plot(x0, m_true * x0 + b_true, \"k\", alpha=0.3, lw=3)\n",
    "plt.xlim(0, 10)\n",
    "plt.xlabel(\"x\")\n",
    "plt.ylabel(\"y\")"
   ]
  },
  {
   "cell_type": "markdown",
   "metadata": {},
   "source": [
    "## Estimación por Mínimos Cuadrados (LSE)\n",
    "\n",
    "Hagamos un ajuste \"rápido\" usando mínimos cuadrados."
   ]
  },
  {
   "cell_type": "code",
   "execution_count": 29,
   "metadata": {},
   "outputs": [
    {
     "name": "stdout",
     "output_type": "stream",
     "text": [
      "Estimación por mínimos cuadrados:\n",
      "m = -0.972 ± 0.016\n",
      "b = 4.399 ± 0.091\n"
     ]
    },
    {
     "data": {
      "text/plain": [
       "Text(0, 0.5, 'y')"
      ]
     },
     "execution_count": 29,
     "metadata": {},
     "output_type": "execute_result"
    },
    {
     "data": {
      "image/png": "[encoded data removed]",
      "text/plain": [
       "<Figure size 432x288 with 1 Axes>"
      ]
     },
     "metadata": {
      "needs_background": "light"
     },
     "output_type": "display_data"
    }
   ],
   "source": [
    "A = np.vander(x, 2)\n",
    "C = np.diag(yerr * yerr)\n",
    "ATA = np.dot(A.T, A / (yerr ** 2)[:, None])\n",
    "cov = np.linalg.inv(ATA)\n",
    "w = np.linalg.solve(ATA, np.dot(A.T, y / yerr ** 2))\n",
    "print(\"Estimación por mínimos cuadrados:\")\n",
    "print(\"m = {0:.3f} ± {1:.3f}\".format(w[0], np.sqrt(cov[0, 0])))\n",
    "print(\"b = {0:.3f} ± {1:.3f}\".format(w[1], np.sqrt(cov[1, 1])))\n",
    "\n",
    "m_ls  = w[0]\n",
    "dm_ls = np.sqrt(cov[0, 0])\n",
    "b_ls  = w[1]\n",
    "db_ls = np.sqrt(cov[1, 1])\n",
    "\n",
    "plt.errorbar(x, y, yerr=yerr, fmt=\".k\", capsize=0)\n",
    "#plt.plot(x0, m_true * x0 + b_true, \"k\", alpha=0.3, lw=3, label=\"Real\")\n",
    "plt.plot(x0, np.dot(np.vander(x0, 2), w), \"--k\", label=\"LS\")\n",
    "plt.legend(fontsize=14)\n",
    "plt.xlim(0, 10)\n",
    "plt.xlabel(\"x\")\n",
    "plt.ylabel(\"y\")"
   ]
  },
  {
   "cell_type": "markdown",
   "metadata": {},
   "source": [
    "Como podemos ver, el ajuste por mínimos cuadrados es bastante bueno, y pasa a través de la mayoría de las barras de error."
   ]
  },
  {
   "cell_type": "markdown",
   "metadata": {},
   "source": [
    "## Estimación por Máxima Verosimilitud (MLE)\n",
    "\n",
    "La solución por mínimos cuadrados usada anteriormente de hecho utiliza la estimación por máxima verosimilitud, y asume que las barras de error son correctas, son independientes y son Gaussianas. Esto no siempre será así.\n",
    "\n",
    "Para tener esto en consideración (la confiabilidad en los errores) debemos encontrar la función de verosimilitud que lo optimice. Pero debemos suponer algo de entrada: la forma funcional de dicha función de verosimilitud.\n",
    "\n",
    "Lo más sencillo es asumir una forma Gaussiana, dado a los teoremas de números grandes, central del límite, etc, usando como valor medio el modelo que queremos ajustar, y de desviación estándar a los errores experimentales que tenemos. \n",
    "\n",
    "$$\n",
    "    p(y|x,\\sigma,m,b) = \\left( \\frac{1}{\\sqrt{2\\pi \\sigma_n^2}} \\right)^n \\exp{{\\sum_{n=1}^N \\frac{(y_n - model_n)^2}{2\\sigma_n^2}}}.\n",
    "$$\n",
    "\n",
    "Lo más fácil siempre es usar el logaritmo natural de dicha función:\n",
    "\n",
    "$$\n",
    "    \\ln p(y|x,\\sigma,m,b) = -\\frac{1}{2} \\sum_{n=i}^N \\left[ \\frac{(y_n - model_n)^2}{\\sigma_n^2} + \\ln (2\\pi \\sigma_n^2) \\right].\n",
    "$$\n",
    "\n",
    "Estas funciones se leen como: \"La probabilidad de obtener los datos $y$ dado un modelo $model$ con parámetros $m$ y $b$, los datos dependientes $x$ y la varianza asociada a los errores medidos $\\sigma^2$."
   ]
  },
  {
   "cell_type": "code",
   "execution_count": 38,
   "metadata": {},
   "outputs": [],
   "source": [
    "# Definimos nuestro modelo a ajustar a los datos\n",
    "\n",
    "def fit_model(x,*args):\n",
    "    m = args[0]\n",
    "    b = args[1]\n",
    "    return m * x + b"
   ]
  },
  {
   "cell_type": "code",
   "execution_count": 41,
   "metadata": {},
   "outputs": [],
   "source": [
    "# Definimos el logaritmo de la función de verosimilitud\n",
    "# (Log likelihood) a partir de una Gaussiana.\n",
    "\n",
    "def log_likelihood(theta, x, y, yerr):\n",
    "    m, b = theta\n",
    "    model = fit_model(x,m,b)\n",
    "    sigma2 = yerr ** 2\n",
    "    return -0.5 * np.sum((y - model) ** 2 / sigma2 + np.log(sigma2))"
   ]
  },
  {
   "cell_type": "code",
   "execution_count": 42,
   "metadata": {},
   "outputs": [
    {
     "name": "stdout",
     "output_type": "stream",
     "text": [
      "Estimación por Máxima Verosimilitud:\n",
      "m = -0.972\n",
      "b = 4.399\n"
     ]
    },
    {
     "data": {
      "image/png": "[encoded data removed]",
      "text/plain": [
       "<Figure size 432x288 with 1 Axes>"
      ]
     },
     "metadata": {
      "needs_background": "light"
     },
     "output_type": "display_data"
    }
   ],
   "source": [
    "from scipy.optimize import minimize\n",
    "\n",
    "np.random.seed(42)\n",
    "nll = lambda *args: -log_likelihood(*args)\n",
    "initial = np.array([m_ls, b_ls]) + 0.1 * np.random.randn(2)\n",
    "soln = minimize(nll, initial, args=(x, y, yerr))\n",
    "m_ml, b_ml = soln.x\n",
    "\n",
    "print(\"Estimación por Máxima Verosimilitud:\")\n",
    "print(\"m = {0:.3f}\".format(m_ml))\n",
    "print(\"b = {0:.3f}\".format(b_ml))\n",
    "\n",
    "plt.errorbar(x, y, yerr=yerr, fmt=\".k\", capsize=0)\n",
    "plt.plot(x0, m_true * x0 + b_true, \"k\", alpha=0.3, lw=3, label=\"Real\")\n",
    "plt.plot(x0, np.dot(np.vander(x0, 2), w), \"--k\", label=\"LS\")\n",
    "plt.plot(x0, np.dot(np.vander(x0, 2), [m_ml, b_ml]), \":r\", label=\"ML\")\n",
    "plt.legend(fontsize=14)\n",
    "plt.xlim(0, 10)\n",
    "plt.xlabel(\"x\")\n",
    "plt.ylabel(\"y\");"
   ]
  },
  {
   "cell_type": "markdown",
   "metadata": {},
   "source": [
    "Como podemos ver, dado a la confianza en los errores, no hay diferencia alguna entre Mínimos Cuadrados (LS) y Máxima Verosimilitud (ML)."
   ]
  },
  {
   "cell_type": "markdown",
   "metadata": {},
   "source": [
    "## Datos sin confianza en los errores\n",
    "\n",
    "Generemos unos datos sintéticos pero ahora donde no confiamos\n",
    "en que las barras de error son correctas.\n",
    "\n",
    "Generemos ahora una serie de datos sintéticos para los cuales no podemos confiar en los errores experimentales, dado que la dispersión de los datos es mucho más grande que el tamaño de las barras de error (por decirlo de forma burda)."
   ]
  },
  {
   "cell_type": "code",
   "execution_count": 43,
   "metadata": {},
   "outputs": [
    {
     "data": {
      "image/png": "[encoded data removed]",
      "text/plain": [
       "<Figure size 432x288 with 1 Axes>"
      ]
     },
     "metadata": {
      "needs_background": "light"
     },
     "output_type": "display_data"
    }
   ],
   "source": [
    "np.random.seed(123)\n",
    "\n",
    "# Choose the \"true\" parameters.\n",
    "m_true = -0.9594\n",
    "b_true = 4.294\n",
    "f_true = 0.534 # Subestimación en los errores\n",
    "\n",
    "# Generate some synthetic data from the model.\n",
    "N = 50\n",
    "x = np.sort(10 * np.random.rand(N))\n",
    "yerr = 0.1 + 0.5 * np.random.rand(N)\n",
    "y = m_true * x + b_true\n",
    "y += np.abs(f_true * y) * np.random.randn(N)\n",
    "y += yerr * np.random.randn(N)\n",
    "\n",
    "plt.errorbar(x, y, yerr=yerr, fmt=\".k\", capsize=0)\n",
    "x0 = np.linspace(0, 10, 500)\n",
    "plt.plot(x0, m_true * x0 + b_true, \"k\", alpha=0.3, lw=3)\n",
    "plt.xlim(0, 10)\n",
    "plt.xlabel(\"x\")\n",
    "plt.ylabel(\"y\");"
   ]
  },
  {
   "cell_type": "markdown",
   "metadata": {},
   "source": [
    "Como podemos ver en la gráfica anterior, la mayoría de las barras de error no cruzan la línea, por lo que no podemos confiar en los errores que tenemos y debemos hacer un ajuste que tome en cuenta esto.\n",
    "\n",
    "Si repetimos la estimación por Mínimos Cuadrados (LS)."
   ]
  },
  {
   "cell_type": "code",
   "execution_count": 44,
   "metadata": {},
   "outputs": [
    {
     "name": "stdout",
     "output_type": "stream",
     "text": [
      "Estimación por mínimos cuadrados:\n",
      "m = -1.104 ± 0.016\n",
      "b = 5.441 ± 0.091\n"
     ]
    },
    {
     "data": {
      "text/plain": [
       "Text(0, 0.5, 'y')"
      ]
     },
     "execution_count": 44,
     "metadata": {},
     "output_type": "execute_result"
    },
    {
     "data": {
      "image/png": "[encoded data removed]",
      "text/plain": [
       "<Figure size 432x288 with 1 Axes>"
      ]
     },
     "metadata": {
      "needs_background": "light"
     },
     "output_type": "display_data"
    }
   ],
   "source": [
    "A = np.vander(x, 2)\n",
    "C = np.diag(yerr * yerr)\n",
    "ATA = np.dot(A.T, A / (yerr ** 2)[:, None])\n",
    "cov = np.linalg.inv(ATA)\n",
    "w = np.linalg.solve(ATA, np.dot(A.T, y / yerr ** 2))\n",
    "print(\"Estimación por mínimos cuadrados:\")\n",
    "print(\"m = {0:.3f} ± {1:.3f}\".format(w[0], np.sqrt(cov[0, 0])))\n",
    "print(\"b = {0:.3f} ± {1:.3f}\".format(w[1], np.sqrt(cov[1, 1])))\n",
    "\n",
    "m_ls  = w[0]\n",
    "dm_ls = np.sqrt(cov[0, 0])\n",
    "b_ls  = w[1]\n",
    "db_ls = np.sqrt(cov[1, 1])\n",
    "\n",
    "plt.errorbar(x, y, yerr=yerr, fmt=\".k\", capsize=0)\n",
    "#plt.plot(x0, m_true * x0 + b_true, \"k\", alpha=0.3, lw=3, label=\"Real\")\n",
    "plt.plot(x0, np.dot(np.vander(x0, 2), w), \"--k\", label=\"LS\")\n",
    "plt.legend(fontsize=14)\n",
    "plt.xlim(0, 10)\n",
    "plt.xlabel(\"x\")\n",
    "plt.ylabel(\"y\")"
   ]
  },
  {
   "cell_type": "markdown",
   "metadata": {},
   "source": [
    "Encontramos una diferencia grande a la curva real, aunque esto no lo podríamos saber de entrada, porque es muy probable que no sepamos cual es dicha curva (recordemos que los datos sintéticos representan datos experimentales).\n",
    "\n",
    "Si ahora repetimos la estimación pero usando Máxima Verosimilitud, ahora nuestra función de verosimilitud tendrá un factor extra $f$, que considerará esta subestimación en los errores, y que entra como otro parámetro a nuestro modelo\n",
    "\n",
    "$$\n",
    "    \\ln p(y|x,s,m,b,f) = -\\frac{1}{2} \\sum_{n=i}^N \\left[ \\frac{(y_n - model_n)^2}{s_n^2} + \\ln (2\\pi s_n^2) \\right],\n",
    "$$\n",
    "\n",
    "donde $s_n^2 = \\sigma_n^2 + f^2(model_n)^2$."
   ]
  },
  {
   "cell_type": "code",
   "execution_count": 46,
   "metadata": {},
   "outputs": [],
   "source": [
    "def log_likelihood(theta, x, y, yerr):\n",
    "    m, b, log_f = theta\n",
    "    model = fit_model(x,m,b)\n",
    "    sigma2 = yerr ** 2 + model ** 2 * np.exp(2 * log_f)\n",
    "    return -0.5 * np.sum((y - model) ** 2 / sigma2 + np.log(sigma2))"
   ]
  },
  {
   "cell_type": "code",
   "execution_count": 47,
   "metadata": {},
   "outputs": [
    {
     "name": "stdout",
     "output_type": "stream",
     "text": [
      "Maximum likelihood estimates:\n",
      "m = -1.003\n",
      "b = 4.528\n",
      "f = 0.454\n"
     ]
    },
    {
     "data": {
      "text/plain": [
       "Text(0, 0.5, 'y')"
      ]
     },
     "execution_count": 47,
     "metadata": {},
     "output_type": "execute_result"
    },
    {
     "data": {
      "image/png": "[encoded data removed]",
      "text/plain": [
       "<Figure size 432x288 with 1 Axes>"
      ]
     },
     "metadata": {
      "needs_background": "light"
     },
     "output_type": "display_data"
    }
   ],
   "source": [
    "np.random.seed(42)\n",
    "nll = lambda *args: -log_likelihood(*args)\n",
    "initial = np.array([m_ls, b_ls, np.log(0.001)]) + 0.1 * np.random.randn(3)\n",
    "soln = minimize(nll, initial, args=(x, y, yerr))\n",
    "m_ml, b_ml, log_f_ml = soln.x\n",
    "\n",
    "print(\"Maximum likelihood estimates:\")\n",
    "print(\"m = {0:.3f}\".format(m_ml))\n",
    "print(\"b = {0:.3f}\".format(b_ml))\n",
    "print(\"f = {0:.3f}\".format(np.exp(log_f_ml)))\n",
    "\n",
    "plt.errorbar(x, y, yerr=yerr, fmt=\".k\", capsize=0)\n",
    "plt.plot(x0, m_true * x0 + b_true, \"k\", alpha=0.3, lw=3, label=\"Real\")\n",
    "plt.plot(x0, np.dot(np.vander(x0, 2), w), \"--k\", label=\"Mínimos Cuadrados\")\n",
    "plt.plot(x0, np.dot(np.vander(x0, 2), [m_ml, b_ml]), \":r\", label=\"Maximum Likelihood\")\n",
    "plt.legend(fontsize=14)\n",
    "plt.xlim(0, 10)\n",
    "plt.xlabel(\"x\")\n",
    "plt.ylabel(\"y\")"
   ]
  },
  {
   "cell_type": "markdown",
   "metadata": {},
   "source": [
    "## Cálculo de Incertidumbres usando MCMC\n",
    "\n",
    "MCMC = Monte Carlo Markov Chain"
   ]
  },
  {
   "cell_type": "code",
   "execution_count": 12,
   "metadata": {},
   "outputs": [],
   "source": [
    "import emcee"
   ]
  }
 ],
 "metadata": {
  "kernelspec": {
   "display_name": "Python 3",
   "language": "python",
   "name": "python3"
  },
  "language_info": {
   "codemirror_mode": {
    "name": "ipython",
    "version": 3
   },
   "file_extension": ".py",
   "mimetype": "text/x-python",
   "name": "python",
   "nbconvert_exporter": "python",
   "pygments_lexer": "ipython3",
   "version": "3.8.3"
  }
 },
 "nbformat": 4,
 "nbformat_minor": 4
}
