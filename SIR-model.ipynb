{
 "cells": [
  {
   "cell_type": "markdown",
   "metadata": {},
   "source": [
    "# Modelo SIR\n",
    "\n",
    "Tomar distribuciones aleatorias de los parámetros en el modelo SIR\n",
    "\n",
    "SIR depende de $\\beta$ y $\\gamma$ la tasa de infección y de recuperación, respectivamente."
   ]
  },
  {
   "cell_type": "code",
   "execution_count": 1,
   "metadata": {},
   "outputs": [],
   "source": [
    "import numpy as np\n",
    "from scipy.integrate import odeint\n",
    "import matplotlib.pyplot as plt\n",
    "from matplotlib import rc\n",
    "\n",
    "plt.rc('font', family='serif')\n",
    "plt.rc('text', usetex=True)"
   ]
  },
  {
   "cell_type": "code",
   "execution_count": 2,
   "metadata": {},
   "outputs": [],
   "source": [
    "# The SIR model differential equations.\n",
    "def deriv(y, t, N, beta, gamma):\n",
    "    S, I, R = y\n",
    "    dSdt = -beta * S * I / N\n",
    "    dIdt = beta * S * I / N - gamma * I\n",
    "    dRdt = gamma * I\n",
    "    return dSdt, dIdt, dRdt"
   ]
  },
  {
   "cell_type": "code",
   "execution_count": 3,
   "metadata": {},
   "outputs": [],
   "source": [
    "def SIR(b,g,t):\n",
    "    N = 1\n",
    "    I0, R0 = 0.01, 0\n",
    "    S0 = N - I0 - R0\n",
    "    \n",
    "    y0  = S0, I0, R0\n",
    "    ret = odeint(deriv,y0,t,args=(N,b,g))\n",
    "    \n",
    "    S, I, R = ret.T\n",
    "    \n",
    "    return S, I, R"
   ]
  },
  {
   "cell_type": "code",
   "execution_count": 4,
   "metadata": {},
   "outputs": [],
   "source": [
    "# True parameters\n",
    "beta_true  = 0.18\n",
    "gamma_true = 0.12\n",
    "f_true   = 0.3\n",
    "\n",
    "# Generate some synthetic data from the model\n",
    "N = 160\n",
    "T  = np.sort(160*np.random.rand(N))\n",
    "T0 = np.linspace(0,160,N)\n",
    "y_err = 0.001 + 0.005 * np.random.rand(N), 0.001 + 0.005 * np.random.rand(N), 0.001 + 0.005 * np.random.rand(N)\n",
    "\n",
    "y = SIR(beta_true,gamma_true,T0)\n",
    "y_tot = y + y_err * np.random.randn(N)"
   ]
  },
  {
   "cell_type": "code",
   "execution_count": 5,
   "metadata": {},
   "outputs": [
    {
     "data": {
      "text/plain": [
       "Text(0.5, 0, 'Time')"
      ]
     },
     "execution_count": 5,
     "metadata": {},
     "output_type": "execute_result"
    },
    {
     "data": {
      "image/png": "[encoded data removed]",
      "text/plain": [
       "<Figure size 432x288 with 3 Axes>"
      ]
     },
     "metadata": {
      "needs_background": "light"
     },
     "output_type": "display_data"
    }
   ],
   "source": [
    "fig, (ax1,ax2,ax3) = plt.subplots(3,sharex=True)\n",
    "\n",
    "ax1.set_ylim(0.0,1.0)\n",
    "ax1.plot(T0,y[0],\"k\",alpha=0.3,lw=3)\n",
    "ax1.set_ylabel(r\"Susceptible\")\n",
    "\n",
    "ax2.set_ylim(0.0,0.2)\n",
    "ax2.plot(T0,y[1],\"k\",alpha=0.5,lw=3)\n",
    "ax2.set_ylabel(r\"Infectious\")\n",
    "\n",
    "ax3.set_ylim(0.0,1.0)\n",
    "ax3.plot(T0,y[2],\"k\",alpha=0.7,lw=3)\n",
    "ax3.set_ylabel(r\"Recovered\")\n",
    "\n",
    "\n",
    "plt.xlabel(r\"Time\")"
   ]
  }
 ],
 "metadata": {
  "kernelspec": {
   "display_name": "Python 3",
   "language": "python",
   "name": "python3"
  },
  "language_info": {
   "codemirror_mode": {
    "name": "ipython",
    "version": 3
   },
   "file_extension": ".py",
   "mimetype": "text/x-python",
   "name": "python",
   "nbconvert_exporter": "python",
   "pygments_lexer": "ipython3",
   "version": "3.8.3"
  }
 },
 "nbformat": 4,
 "nbformat_minor": 2
}
