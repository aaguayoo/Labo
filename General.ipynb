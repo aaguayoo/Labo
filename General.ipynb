{
 "cells": [
  {
   "cell_type": "markdown",
   "metadata": {},
   "source": [
    "# Sesión 1 - Python\n",
    "\n",
    "En esta sesión se hará un breve repaso de los atributos de Python."
   ]
  },
  {
   "cell_type": "code",
   "execution_count": 1,
   "metadata": {},
   "outputs": [],
   "source": [
    "import numpy as np\n",
    "#from numpy import sin"
   ]
  },
  {
   "cell_type": "markdown",
   "metadata": {},
   "source": [
    "## Tipos de variables\n",
    "\n",
    "- Listas\n",
    "- Enteros\n",
    "- Reales\n",
    "- Conjuntos\n",
    "- Diccionarios\n",
    "- Arrays (1, 2 o más dimensiones)\n",
    "- Booleanos\n",
    "- Strings\n",
    "- Función\n",
    "- Tuplas"
   ]
  },
  {
   "cell_type": "code",
   "execution_count": 2,
   "metadata": {},
   "outputs": [],
   "source": [
    "lista  = [[1,2], 2, 'string']\n",
    "dic    = {'Pedro':'3080027573'}\n",
    "tuplas = (1,2,3,2)"
   ]
  },
  {
   "cell_type": "markdown",
   "metadata": {},
   "source": [
    "## Sintaxis\n",
    "\n",
    "### Condicional if\n",
    "\n",
    "if ():\n",
    "\n",
    "    statement\n",
    "    \n",
    "else if ():\n",
    "\n",
    "    otro statement\n",
    "    \n",
    "else:\n",
    "\n",
    "    statement final"
   ]
  },
  {
   "cell_type": "code",
   "execution_count": 3,
   "metadata": {},
   "outputs": [
    {
     "name": "stdout",
     "output_type": "stream",
     "text": [
      "a es menor que 1\n"
     ]
    }
   ],
   "source": [
    "a=0\n",
    "\n",
    "if (a == 1):\n",
    "    print(\"a = {}\".format(a))\n",
    "elif (a < 1):\n",
    "    print(\"a es menor que 1\")\n",
    "else:\n",
    "    print(\"a es mayor que 1\")"
   ]
  },
  {
   "cell_type": "markdown",
   "metadata": {},
   "source": [
    "### Condicional while"
   ]
  },
  {
   "cell_type": "code",
   "execution_count": 4,
   "metadata": {},
   "outputs": [
    {
     "name": "stdout",
     "output_type": "stream",
     "text": [
      "a sigue siendo menor que 1. El valor de a es -32\n",
      "a sigue siendo menor que 1. El valor de a es -31\n",
      "a sigue siendo menor que 1. El valor de a es -30\n",
      "a sigue siendo menor que 1. El valor de a es -29\n",
      "a sigue siendo menor que 1. El valor de a es -28\n",
      "a sigue siendo menor que 1. El valor de a es -27\n",
      "a sigue siendo menor que 1. El valor de a es -26\n",
      "a sigue siendo menor que 1. El valor de a es -25\n",
      "a sigue siendo menor que 1. El valor de a es -24\n",
      "a sigue siendo menor que 1. El valor de a es -23\n",
      "a sigue siendo menor que 1. El valor de a es -22\n",
      "a sigue siendo menor que 1. El valor de a es -21\n",
      "a sigue siendo menor que 1. El valor de a es -20\n",
      "a sigue siendo menor que 1. El valor de a es -19\n",
      "a sigue siendo menor que 1. El valor de a es -18\n",
      "a sigue siendo menor que 1. El valor de a es -17\n",
      "a sigue siendo menor que 1. El valor de a es -16\n",
      "a sigue siendo menor que 1. El valor de a es -15\n",
      "a sigue siendo menor que 1. El valor de a es -14\n",
      "a sigue siendo menor que 1. El valor de a es -13\n",
      "a sigue siendo menor que 1. El valor de a es -12\n",
      "a sigue siendo menor que 1. El valor de a es -11\n",
      "a sigue siendo menor que 1. El valor de a es -10\n",
      "a sigue siendo menor que 1. El valor de a es -9\n",
      "a sigue siendo menor que 1. El valor de a es -8\n",
      "a sigue siendo menor que 1. El valor de a es -7\n",
      "a sigue siendo menor que 1. El valor de a es -6\n",
      "a sigue siendo menor que 1. El valor de a es -5\n",
      "a sigue siendo menor que 1. El valor de a es -4\n",
      "a sigue siendo menor que 1. El valor de a es -3\n",
      "a sigue siendo menor que 1. El valor de a es -2\n",
      "a sigue siendo menor que 1. El valor de a es -1\n",
      "a sigue siendo menor que 1. El valor de a es 0\n"
     ]
    }
   ],
   "source": [
    "a = -32\n",
    "\n",
    "while (a < 1):\n",
    "    print(\"a sigue siendo menor que 1. El valor de a es {}\".format(a))\n",
    "    a += 1"
   ]
  },
  {
   "cell_type": "markdown",
   "metadata": {},
   "source": [
    "### For loop"
   ]
  },
  {
   "cell_type": "code",
   "execution_count": 5,
   "metadata": {},
   "outputs": [
    {
     "name": "stdout",
     "output_type": "stream",
     "text": [
      "El valor de x es 1\n",
      "El valor de x es 2\n",
      "El valor de x es 3\n",
      "El valor de x es 4\n",
      "El valor de x es 5\n",
      "El valor de x es 6\n",
      "El valor de x es 7\n",
      "El valor de x es 8\n",
      "El valor de x es 9\n"
     ]
    }
   ],
   "source": [
    "lista = [1,2,3,4,5,6,7,8,9]\n",
    "\n",
    "for x in lista:\n",
    "    print(\"El valor de x es {}\".format(x))"
   ]
  },
  {
   "cell_type": "code",
   "execution_count": 6,
   "metadata": {},
   "outputs": [
    {
     "name": "stdout",
     "output_type": "stream",
     "text": [
      "El valor de x es 0\n",
      "El valor de x es 1\n",
      "El valor de x es 2\n",
      "El valor de x es 3\n",
      "El valor de x es 4\n",
      "El valor de x es 5\n",
      "El valor de x es 6\n",
      "El valor de x es 7\n",
      "El valor de x es 8\n",
      "El valor de x es 9\n"
     ]
    }
   ],
   "source": [
    "for x in range(0,len(lista)+1):\n",
    "    print(\"El valor de x es {}\".format(x))"
   ]
  },
  {
   "cell_type": "code",
   "execution_count": 7,
   "metadata": {},
   "outputs": [],
   "source": [
    "lista2 = [x for x in range(0,101)]"
   ]
  },
  {
   "cell_type": "markdown",
   "metadata": {},
   "source": [
    "## Funciones"
   ]
  },
  {
   "cell_type": "code",
   "execution_count": 8,
   "metadata": {},
   "outputs": [],
   "source": [
    "def add(a,b,lista=[1,2]):\n",
    "    c = a + b\n",
    "    for x in lista:\n",
    "        print(\"El valor de x es {}\".format(x))\n",
    "    return c, a, b"
   ]
  },
  {
   "cell_type": "code",
   "execution_count": 9,
   "metadata": {},
   "outputs": [
    {
     "name": "stdout",
     "output_type": "stream",
     "text": [
      "El valor de x es 1\n",
      "El valor de x es 2\n"
     ]
    },
    {
     "data": {
      "text/plain": [
       "(3, 1, 2)"
      ]
     },
     "execution_count": 9,
     "metadata": {},
     "output_type": "execute_result"
    }
   ],
   "source": [
    "add(1,2)"
   ]
  },
  {
   "cell_type": "code",
   "execution_count": 10,
   "metadata": {},
   "outputs": [],
   "source": [
    "def gen_add(*args,**kwargs):\n",
    "    suma = 0\n",
    "    for x in args:\n",
    "        suma += x\n",
    "    print(\"El valor de a es {}\".format(kwargs['a']))\n",
    "    return suma + kwargs['a']"
   ]
  },
  {
   "cell_type": "code",
   "execution_count": 11,
   "metadata": {},
   "outputs": [
    {
     "name": "stdout",
     "output_type": "stream",
     "text": [
      "El valor de a es 2340\n"
     ]
    },
    {
     "data": {
      "text/plain": [
       "2361"
      ]
     },
     "execution_count": 11,
     "metadata": {},
     "output_type": "execute_result"
    }
   ],
   "source": [
    "gen_add(1,2,3,4,5,6,a=2340)"
   ]
  },
  {
   "cell_type": "markdown",
   "metadata": {},
   "source": [
    "## Clases"
   ]
  },
  {
   "cell_type": "code",
   "execution_count": 12,
   "metadata": {},
   "outputs": [],
   "source": [
    "class Clase1():\n",
    "    \n",
    "    def __init__(self,var1=1):\n",
    "        self.var1 = var1\n",
    "        \n",
    "    def gen_add(self,*args,**kwargs):\n",
    "        suma = 0\n",
    "        for x in args:\n",
    "            suma += x\n",
    "        return suma\n",
    "    \n",
    "    def gen_prod(self,*args,**kwargs):\n",
    "        suma = 1\n",
    "        for x in args:\n",
    "            suma *= x\n",
    "        return suma + self.gen_add(10,11)"
   ]
  },
  {
   "cell_type": "markdown",
   "metadata": {},
   "source": [
    "## Decoradores\n",
    "\n",
    "Es una función que recibe como argumento otra función."
   ]
  },
  {
   "cell_type": "code",
   "execution_count": 15,
   "metadata": {},
   "outputs": [],
   "source": [
    "# Definimos el decorador\n",
    "def name(func):\n",
    "    def exec_w_name(a,b): # Esta función debe tener el mismo número de argumentos que func\n",
    "        print(\"La función {} se ha ejecutado\".format(func.__name__))\n",
    "        return func(a,b)\n",
    "    return exec_w_name"
   ]
  },
  {
   "cell_type": "code",
   "execution_count": 20,
   "metadata": {},
   "outputs": [],
   "source": [
    "@name\n",
    "def add(a,b):\n",
    "    return a + b\n",
    "\n",
    "@name\n",
    "def subs(a,b):\n",
    "    return a - b"
   ]
  },
  {
   "cell_type": "code",
   "execution_count": 17,
   "metadata": {},
   "outputs": [
    {
     "name": "stdout",
     "output_type": "stream",
     "text": [
      "La función add se ha ejecutado\n"
     ]
    },
    {
     "data": {
      "text/plain": [
       "5"
      ]
     },
     "execution_count": 17,
     "metadata": {},
     "output_type": "execute_result"
    }
   ],
   "source": [
    "add(2,3)"
   ]
  },
  {
   "cell_type": "code",
   "execution_count": 21,
   "metadata": {},
   "outputs": [
    {
     "name": "stdout",
     "output_type": "stream",
     "text": [
      "La función subs se ha ejecutado\n"
     ]
    },
    {
     "data": {
      "text/plain": [
       "1"
      ]
     },
     "execution_count": 21,
     "metadata": {},
     "output_type": "execute_result"
    }
   ],
   "source": [
    "subs(3,2)"
   ]
  }
 ],
 "metadata": {
  "kernelspec": {
   "display_name": "Python 3",
   "language": "python",
   "name": "python3"
  },
  "language_info": {
   "codemirror_mode": {
    "name": "ipython",
    "version": 3
   },
   "file_extension": ".py",
   "mimetype": "text/x-python",
   "name": "python",
   "nbconvert_exporter": "python",
   "pygments_lexer": "ipython3",
   "version": "3.8.3"
  }
 },
 "nbformat": 4,
 "nbformat_minor": 4
}
